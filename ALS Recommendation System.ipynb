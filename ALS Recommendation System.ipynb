{
  "cells": [
    {
      "cell_type": "markdown",
      "source": [
        "#Author: BENAZZOU Adnane\n",
        "###ESI ICD - GDV"
      ],
      "metadata": {
        "id": "uvfX5lcEjymo"
      }
    },
    {
      "cell_type": "markdown",
      "source": [
        "# Setting up PySpark"
      ],
      "metadata": {
        "id": "DNhCuXVYdvhM"
      }
    },
    {
      "cell_type": "markdown",
      "source": [
        "##Mounting Drive"
      ],
      "metadata": {
        "id": "RfwWRPjaiv9j"
      }
    },
    {
      "cell_type": "code",
      "execution_count": null,
      "metadata": {
        "colab": {
          "base_uri": "https://localhost:8080/"
        },
        "id": "1lJPe_PjC1P2",
        "outputId": "53e1316c-ff7f-45ee-b1f8-b385f12e6695"
      },
      "outputs": [
        {
          "output_type": "stream",
          "name": "stdout",
          "text": [
            "Mounted at /content/drive\n"
          ]
        }
      ],
      "source": [
        "from google.colab import drive\n",
        "drive.mount('/content/drive')"
      ]
    },
    {
      "cell_type": "markdown",
      "source": [
        "##Installing PySpark and jdk8"
      ],
      "metadata": {
        "id": "hXXV-PkLiykr"
      }
    },
    {
      "cell_type": "code",
      "execution_count": null,
      "metadata": {
        "colab": {
          "base_uri": "https://localhost:8080/"
        },
        "id": "kw1Q5pvhy8FJ",
        "outputId": "74230687-362b-47b6-ebf6-5e4072c4161e"
      },
      "outputs": [
        {
          "output_type": "stream",
          "name": "stdout",
          "text": [
            "Get:1 https://cloud.r-project.org/bin/linux/ubuntu bionic-cran40/ InRelease [3,626 B]\n",
            "Ign:2 https://developer.download.nvidia.com/compute/cuda/repos/ubuntu1804/x86_64  InRelease\n",
            "Get:3 http://ppa.launchpad.net/c2d4u.team/c2d4u4.0+/ubuntu bionic InRelease [15.9 kB]\n",
            "Ign:4 https://developer.download.nvidia.com/compute/machine-learning/repos/ubuntu1804/x86_64  InRelease\n",
            "Hit:5 http://archive.ubuntu.com/ubuntu bionic InRelease\n",
            "Get:6 https://developer.download.nvidia.com/compute/cuda/repos/ubuntu1804/x86_64  Release [696 B]\n",
            "Hit:7 https://developer.download.nvidia.com/compute/machine-learning/repos/ubuntu1804/x86_64  Release\n",
            "Get:8 http://security.ubuntu.com/ubuntu bionic-security InRelease [88.7 kB]\n",
            "Get:9 https://developer.download.nvidia.com/compute/cuda/repos/ubuntu1804/x86_64  Release.gpg [836 B]\n",
            "Get:10 http://archive.ubuntu.com/ubuntu bionic-updates InRelease [88.7 kB]\n",
            "Get:11 https://cloud.r-project.org/bin/linux/ubuntu bionic-cran40/ Packages [73.9 kB]\n",
            "Hit:12 http://ppa.launchpad.net/cran/libgit2/ubuntu bionic InRelease\n",
            "Get:13 http://ppa.launchpad.net/deadsnakes/ppa/ubuntu bionic InRelease [15.9 kB]\n",
            "Get:14 http://archive.ubuntu.com/ubuntu bionic-backports InRelease [74.6 kB]\n",
            "Hit:16 http://ppa.launchpad.net/graphics-drivers/ppa/ubuntu bionic InRelease\n",
            "Get:17 https://developer.download.nvidia.com/compute/cuda/repos/ubuntu1804/x86_64  Packages [833 kB]\n",
            "Get:18 http://ppa.launchpad.net/c2d4u.team/c2d4u4.0+/ubuntu bionic/main Sources [1,822 kB]\n",
            "Get:19 http://security.ubuntu.com/ubuntu bionic-security/main amd64 Packages [2,461 kB]\n",
            "Get:20 http://archive.ubuntu.com/ubuntu bionic-updates/universe amd64 Packages [2,230 kB]\n",
            "Get:21 http://ppa.launchpad.net/c2d4u.team/c2d4u4.0+/ubuntu bionic/main amd64 Packages [934 kB]\n",
            "Get:22 http://security.ubuntu.com/ubuntu bionic-security/universe amd64 Packages [1,452 kB]\n",
            "Get:23 http://security.ubuntu.com/ubuntu bionic-security/restricted amd64 Packages [691 kB]\n",
            "Get:24 http://archive.ubuntu.com/ubuntu bionic-updates/main amd64 Packages [2,898 kB]\n",
            "Get:25 http://archive.ubuntu.com/ubuntu bionic-backports/main amd64 Packages [11.6 kB]\n",
            "Get:26 http://archive.ubuntu.com/ubuntu bionic-backports/universe amd64 Packages [12.6 kB]\n",
            "Get:27 http://ppa.launchpad.net/deadsnakes/ppa/ubuntu bionic/main amd64 Packages [45.3 kB]\n",
            "Fetched 13.8 MB in 3s (4,040 kB/s)\n",
            "Reading package lists... Done\n"
          ]
        }
      ],
      "source": [
        "!apt-get update\n",
        "!apt-get install openjdk-8-jdk-headless -qq > /dev/null\n"
      ]
    },
    {
      "cell_type": "code",
      "execution_count": null,
      "metadata": {
        "id": "1tWVEzZizJSi"
      },
      "outputs": [],
      "source": [
        "!wget -q https://downloads.apache.org/spark/spark-2.4.8/spark-2.4.8-bin-hadoop2.7.tgz\n"
      ]
    },
    {
      "cell_type": "code",
      "execution_count": null,
      "metadata": {
        "id": "GmmEcp4O05fv",
        "colab": {
          "base_uri": "https://localhost:8080/"
        },
        "outputId": "75616523-7336-495c-ae50-d3c832480ae9"
      },
      "outputs": [
        {
          "output_type": "stream",
          "name": "stdout",
          "text": [
            "rm: cannot remove '/content/spark-2.4.8-bin-hadoop2.7': No such file or directory\n"
          ]
        }
      ],
      "source": [
        "!rm -r \"/content/spark-2.4.8-bin-hadoop2.7\""
      ]
    },
    {
      "cell_type": "code",
      "execution_count": null,
      "metadata": {
        "id": "biHVWJ740JWy"
      },
      "outputs": [],
      "source": [
        "!tar xf spark-2.4.8-bin-hadoop2.7.tgz"
      ]
    },
    {
      "cell_type": "code",
      "execution_count": null,
      "metadata": {
        "colab": {
          "base_uri": "https://localhost:8080/"
        },
        "id": "FU-tEOkVzSjC",
        "outputId": "7f10c317-b969-4bcb-81bc-8b050aed5c1f"
      },
      "outputs": [
        {
          "output_type": "stream",
          "name": "stdout",
          "text": [
            "drive  sample_data  spark-2.4.8-bin-hadoop2.7  spark-2.4.8-bin-hadoop2.7.tgz\n"
          ]
        }
      ],
      "source": [
        "!pip install -q findspark\n",
        "!ls \"/content\""
      ]
    },
    {
      "cell_type": "code",
      "execution_count": null,
      "metadata": {
        "id": "XWqv3smCzTHi"
      },
      "outputs": [],
      "source": [
        "import os\n",
        "os.environ[\"JAVA_HOME\"] = \"/usr/lib/jvm/java-8-openjdk-amd64\"\n",
        "os.environ[\"SPARK_HOME\"] = \"/content/spark-2.4.8-bin-hadoop2.7\""
      ]
    },
    {
      "cell_type": "markdown",
      "source": [
        "##Initializing PySpark"
      ],
      "metadata": {
        "id": "7JxnKI7Ai4aA"
      }
    },
    {
      "cell_type": "code",
      "execution_count": null,
      "metadata": {
        "id": "h2tq_rAdzTMw"
      },
      "outputs": [],
      "source": [
        "import findspark\n",
        "findspark.init()"
      ]
    },
    {
      "cell_type": "code",
      "execution_count": null,
      "metadata": {
        "id": "uiJ4TeK2zXny"
      },
      "outputs": [],
      "source": [
        "from pyspark.sql import SparkSession\n",
        "\n",
        "spark = SparkSession.builder\\\n",
        "        .master(\"local\")\\\n",
        "        .appName(\"Colab\")\\\n",
        "        .config('spark.ui.port', '4050')\\\n",
        "        .getOrCreate()\n",
        "sc = spark.sparkContext"
      ]
    },
    {
      "cell_type": "code",
      "execution_count": null,
      "metadata": {
        "id": "9gbP6fJY16Zj"
      },
      "outputs": [],
      "source": [
        "from pyspark.ml.evaluation import RegressionEvaluator\n",
        "from pyspark.ml.recommendation import ALS\n",
        "from pyspark.sql import Row\n",
        "from pyspark.ml.tuning import TrainValidationSplit, ParamGridBuilder"
      ]
    },
    {
      "cell_type": "code",
      "execution_count": null,
      "metadata": {
        "colab": {
          "base_uri": "https://localhost:8080/"
        },
        "id": "ogtGqTTY2Cl1",
        "outputId": "aeb23a0d-924e-4c37-b3ee-02c9f5b3359f"
      },
      "outputs": [
        {
          "output_type": "stream",
          "name": "stdout",
          "text": [
            " allbut.pl  'u (1).user.gdoc'   u4.base   ua.test   u.info\n",
            " mku.sh      u2.base\t        u4.test   ub.base   u.item\n",
            " README      u2.test\t        u5.base   ub.test   u.occupation\n",
            " u1.base     u3.base\t        u5.test   u.data    u.user\n",
            " u1.test     u3.test\t        ua.base   u.genre   u.user.gdoc\n"
          ]
        }
      ],
      "source": [
        "!ls \"/content/drive/MyDrive/ml-100k\""
      ]
    },
    {
      "cell_type": "markdown",
      "source": [
        "# Loading Ratings Data"
      ],
      "metadata": {
        "id": "NZ8O81HHeGyg"
      }
    },
    {
      "cell_type": "code",
      "execution_count": null,
      "metadata": {
        "colab": {
          "base_uri": "https://localhost:8080/"
        },
        "id": "12V0Bkg31-Rs",
        "outputId": "5779dc6a-7de3-4aff-9e51-43630262e245"
      },
      "outputs": [
        {
          "output_type": "stream",
          "name": "stdout",
          "text": [
            "['196', '242', '3', '881250949']\n",
            "Row(movieId=242, rating=3.0, timestamp=881250949, userId=196)\n"
          ]
        }
      ],
      "source": [
        "lines = sc.textFile(\"/content/drive/MyDrive/ml-100k/u.data\")\n",
        "parts = lines.map(lambda row: row.split(\"\\t\"))\n",
        "print(parts.first())\n",
        "ratingsRDD = parts.map(lambda p: Row(userId=int(p[0]), movieId=int(p[1]),\n",
        "rating=float(p[2]), timestamp=int(p[3])))\n",
        "ratings = spark.createDataFrame(ratingsRDD)\n",
        "print(ratings.head())"
      ]
    },
    {
      "cell_type": "markdown",
      "source": [
        "# Initial/Given ALS Model"
      ],
      "metadata": {
        "id": "IPTrjIxkeOV1"
      }
    },
    {
      "cell_type": "markdown",
      "source": [
        "##Training"
      ],
      "metadata": {
        "id": "RDRaWuCwjAQY"
      }
    },
    {
      "cell_type": "code",
      "execution_count": null,
      "metadata": {
        "colab": {
          "base_uri": "https://localhost:8080/",
          "height": 357
        },
        "id": "_t3pODBd2OdN",
        "outputId": "c5fadf9c-7330-43d6-c083-55edab5c6d12"
      },
      "outputs": [
        {
          "output_type": "stream",
          "name": "stdout",
          "text": [
            "start training\n"
          ]
        },
        {
          "output_type": "error",
          "ename": "KeyboardInterrupt",
          "evalue": "ignored",
          "traceback": [
            "\u001b[0;31m---------------------------------------------------------------------------\u001b[0m",
            "\u001b[0;31mKeyboardInterrupt\u001b[0m                         Traceback (most recent call last)",
            "\u001b[0;32m<ipython-input-13-b8b862399ef2>\u001b[0m in \u001b[0;36m<module>\u001b[0;34m()\u001b[0m\n\u001b[1;32m      5\u001b[0m \u001b[0mtvs\u001b[0m\u001b[0;34m=\u001b[0m \u001b[0mTrainValidationSplit\u001b[0m\u001b[0;34m(\u001b[0m\u001b[0mestimator\u001b[0m\u001b[0;34m=\u001b[0m\u001b[0mals\u001b[0m\u001b[0;34m,\u001b[0m \u001b[0mestimatorParamMaps\u001b[0m\u001b[0;34m=\u001b[0m\u001b[0mparam_grid\u001b[0m\u001b[0;34m,\u001b[0m\u001b[0mevaluator\u001b[0m\u001b[0;34m=\u001b[0m\u001b[0mevaluator\u001b[0m\u001b[0;34m)\u001b[0m\u001b[0;34m\u001b[0m\u001b[0;34m\u001b[0m\u001b[0m\n\u001b[1;32m      6\u001b[0m \u001b[0mprint\u001b[0m \u001b[0;34m(\u001b[0m\u001b[0;34m\"start training\"\u001b[0m\u001b[0;34m)\u001b[0m\u001b[0;34m\u001b[0m\u001b[0;34m\u001b[0m\u001b[0m\n\u001b[0;32m----> 7\u001b[0;31m \u001b[0mmodel\u001b[0m \u001b[0;34m=\u001b[0m \u001b[0mtvs\u001b[0m\u001b[0;34m.\u001b[0m\u001b[0mfit\u001b[0m\u001b[0;34m(\u001b[0m\u001b[0mtraining\u001b[0m\u001b[0;34m)\u001b[0m\u001b[0;34m\u001b[0m\u001b[0;34m\u001b[0m\u001b[0m\n\u001b[0m",
            "\u001b[0;32m/content/spark-2.4.8-bin-hadoop2.7/python/pyspark/ml/base.py\u001b[0m in \u001b[0;36mfit\u001b[0;34m(self, dataset, params)\u001b[0m\n\u001b[1;32m    130\u001b[0m                 \u001b[0;32mreturn\u001b[0m \u001b[0mself\u001b[0m\u001b[0;34m.\u001b[0m\u001b[0mcopy\u001b[0m\u001b[0;34m(\u001b[0m\u001b[0mparams\u001b[0m\u001b[0;34m)\u001b[0m\u001b[0;34m.\u001b[0m\u001b[0m_fit\u001b[0m\u001b[0;34m(\u001b[0m\u001b[0mdataset\u001b[0m\u001b[0;34m)\u001b[0m\u001b[0;34m\u001b[0m\u001b[0;34m\u001b[0m\u001b[0m\n\u001b[1;32m    131\u001b[0m             \u001b[0;32melse\u001b[0m\u001b[0;34m:\u001b[0m\u001b[0;34m\u001b[0m\u001b[0;34m\u001b[0m\u001b[0m\n\u001b[0;32m--> 132\u001b[0;31m                 \u001b[0;32mreturn\u001b[0m \u001b[0mself\u001b[0m\u001b[0;34m.\u001b[0m\u001b[0m_fit\u001b[0m\u001b[0;34m(\u001b[0m\u001b[0mdataset\u001b[0m\u001b[0;34m)\u001b[0m\u001b[0;34m\u001b[0m\u001b[0;34m\u001b[0m\u001b[0m\n\u001b[0m\u001b[1;32m    133\u001b[0m         \u001b[0;32melse\u001b[0m\u001b[0;34m:\u001b[0m\u001b[0;34m\u001b[0m\u001b[0;34m\u001b[0m\u001b[0m\n\u001b[1;32m    134\u001b[0m             raise ValueError(\"Params must be either a param map or a list/tuple of param maps, \"\n",
            "\u001b[0;32m/content/spark-2.4.8-bin-hadoop2.7/python/pyspark/ml/tuning.py\u001b[0m in \u001b[0;36m_fit\u001b[0;34m(self, dataset)\u001b[0m\n\u001b[1;32m    570\u001b[0m         \u001b[0mcondition\u001b[0m \u001b[0;34m=\u001b[0m \u001b[0;34m(\u001b[0m\u001b[0mdf\u001b[0m\u001b[0;34m[\u001b[0m\u001b[0mrandCol\u001b[0m\u001b[0;34m]\u001b[0m \u001b[0;34m>=\u001b[0m \u001b[0mtRatio\u001b[0m\u001b[0;34m)\u001b[0m\u001b[0;34m\u001b[0m\u001b[0;34m\u001b[0m\u001b[0m\n\u001b[1;32m    571\u001b[0m         \u001b[0mvalidation\u001b[0m \u001b[0;34m=\u001b[0m \u001b[0mdf\u001b[0m\u001b[0;34m.\u001b[0m\u001b[0mfilter\u001b[0m\u001b[0;34m(\u001b[0m\u001b[0mcondition\u001b[0m\u001b[0;34m)\u001b[0m\u001b[0;34m.\u001b[0m\u001b[0mcache\u001b[0m\u001b[0;34m(\u001b[0m\u001b[0;34m)\u001b[0m\u001b[0;34m\u001b[0m\u001b[0;34m\u001b[0m\u001b[0m\n\u001b[0;32m--> 572\u001b[0;31m         \u001b[0mtrain\u001b[0m \u001b[0;34m=\u001b[0m \u001b[0mdf\u001b[0m\u001b[0;34m.\u001b[0m\u001b[0mfilter\u001b[0m\u001b[0;34m(\u001b[0m\u001b[0;34m~\u001b[0m\u001b[0mcondition\u001b[0m\u001b[0;34m)\u001b[0m\u001b[0;34m.\u001b[0m\u001b[0mcache\u001b[0m\u001b[0;34m(\u001b[0m\u001b[0;34m)\u001b[0m\u001b[0;34m\u001b[0m\u001b[0;34m\u001b[0m\u001b[0m\n\u001b[0m\u001b[1;32m    573\u001b[0m \u001b[0;34m\u001b[0m\u001b[0m\n\u001b[1;32m    574\u001b[0m         \u001b[0msubModels\u001b[0m \u001b[0;34m=\u001b[0m \u001b[0;32mNone\u001b[0m\u001b[0;34m\u001b[0m\u001b[0;34m\u001b[0m\u001b[0m\n",
            "\u001b[0;32m/content/spark-2.4.8-bin-hadoop2.7/python/pyspark/sql/dataframe.py\u001b[0m in \u001b[0;36mcache\u001b[0;34m(self)\u001b[0m\n\u001b[1;32m    606\u001b[0m         \"\"\"\n\u001b[1;32m    607\u001b[0m         \u001b[0mself\u001b[0m\u001b[0;34m.\u001b[0m\u001b[0mis_cached\u001b[0m \u001b[0;34m=\u001b[0m \u001b[0;32mTrue\u001b[0m\u001b[0;34m\u001b[0m\u001b[0;34m\u001b[0m\u001b[0m\n\u001b[0;32m--> 608\u001b[0;31m         \u001b[0mself\u001b[0m\u001b[0;34m.\u001b[0m\u001b[0m_jdf\u001b[0m\u001b[0;34m.\u001b[0m\u001b[0mcache\u001b[0m\u001b[0;34m(\u001b[0m\u001b[0;34m)\u001b[0m\u001b[0;34m\u001b[0m\u001b[0;34m\u001b[0m\u001b[0m\n\u001b[0m\u001b[1;32m    609\u001b[0m         \u001b[0;32mreturn\u001b[0m \u001b[0mself\u001b[0m\u001b[0;34m\u001b[0m\u001b[0;34m\u001b[0m\u001b[0m\n\u001b[1;32m    610\u001b[0m \u001b[0;34m\u001b[0m\u001b[0m\n",
            "\u001b[0;32m/content/spark-2.4.8-bin-hadoop2.7/python/lib/py4j-0.10.7-src.zip/py4j/java_gateway.py\u001b[0m in \u001b[0;36m__call__\u001b[0;34m(self, *args)\u001b[0m\n\u001b[1;32m   1253\u001b[0m             \u001b[0mproto\u001b[0m\u001b[0;34m.\u001b[0m\u001b[0mEND_COMMAND_PART\u001b[0m\u001b[0;34m\u001b[0m\u001b[0;34m\u001b[0m\u001b[0m\n\u001b[1;32m   1254\u001b[0m \u001b[0;34m\u001b[0m\u001b[0m\n\u001b[0;32m-> 1255\u001b[0;31m         \u001b[0manswer\u001b[0m \u001b[0;34m=\u001b[0m \u001b[0mself\u001b[0m\u001b[0;34m.\u001b[0m\u001b[0mgateway_client\u001b[0m\u001b[0;34m.\u001b[0m\u001b[0msend_command\u001b[0m\u001b[0;34m(\u001b[0m\u001b[0mcommand\u001b[0m\u001b[0;34m)\u001b[0m\u001b[0;34m\u001b[0m\u001b[0;34m\u001b[0m\u001b[0m\n\u001b[0m\u001b[1;32m   1256\u001b[0m         return_value = get_return_value(\n\u001b[1;32m   1257\u001b[0m             answer, self.gateway_client, self.target_id, self.name)\n",
            "\u001b[0;32m/content/spark-2.4.8-bin-hadoop2.7/python/lib/py4j-0.10.7-src.zip/py4j/java_gateway.py\u001b[0m in \u001b[0;36msend_command\u001b[0;34m(self, command, retry, binary)\u001b[0m\n\u001b[1;32m    983\u001b[0m         \u001b[0mconnection\u001b[0m \u001b[0;34m=\u001b[0m \u001b[0mself\u001b[0m\u001b[0;34m.\u001b[0m\u001b[0m_get_connection\u001b[0m\u001b[0;34m(\u001b[0m\u001b[0;34m)\u001b[0m\u001b[0;34m\u001b[0m\u001b[0;34m\u001b[0m\u001b[0m\n\u001b[1;32m    984\u001b[0m         \u001b[0;32mtry\u001b[0m\u001b[0;34m:\u001b[0m\u001b[0;34m\u001b[0m\u001b[0;34m\u001b[0m\u001b[0m\n\u001b[0;32m--> 985\u001b[0;31m             \u001b[0mresponse\u001b[0m \u001b[0;34m=\u001b[0m \u001b[0mconnection\u001b[0m\u001b[0;34m.\u001b[0m\u001b[0msend_command\u001b[0m\u001b[0;34m(\u001b[0m\u001b[0mcommand\u001b[0m\u001b[0;34m)\u001b[0m\u001b[0;34m\u001b[0m\u001b[0;34m\u001b[0m\u001b[0m\n\u001b[0m\u001b[1;32m    986\u001b[0m             \u001b[0;32mif\u001b[0m \u001b[0mbinary\u001b[0m\u001b[0;34m:\u001b[0m\u001b[0;34m\u001b[0m\u001b[0;34m\u001b[0m\u001b[0m\n\u001b[1;32m    987\u001b[0m                 \u001b[0;32mreturn\u001b[0m \u001b[0mresponse\u001b[0m\u001b[0;34m,\u001b[0m \u001b[0mself\u001b[0m\u001b[0;34m.\u001b[0m\u001b[0m_create_connection_guard\u001b[0m\u001b[0;34m(\u001b[0m\u001b[0mconnection\u001b[0m\u001b[0;34m)\u001b[0m\u001b[0;34m\u001b[0m\u001b[0;34m\u001b[0m\u001b[0m\n",
            "\u001b[0;32m/content/spark-2.4.8-bin-hadoop2.7/python/lib/py4j-0.10.7-src.zip/py4j/java_gateway.py\u001b[0m in \u001b[0;36msend_command\u001b[0;34m(self, command)\u001b[0m\n\u001b[1;32m   1150\u001b[0m \u001b[0;34m\u001b[0m\u001b[0m\n\u001b[1;32m   1151\u001b[0m         \u001b[0;32mtry\u001b[0m\u001b[0;34m:\u001b[0m\u001b[0;34m\u001b[0m\u001b[0;34m\u001b[0m\u001b[0m\n\u001b[0;32m-> 1152\u001b[0;31m             \u001b[0manswer\u001b[0m \u001b[0;34m=\u001b[0m \u001b[0msmart_decode\u001b[0m\u001b[0;34m(\u001b[0m\u001b[0mself\u001b[0m\u001b[0;34m.\u001b[0m\u001b[0mstream\u001b[0m\u001b[0;34m.\u001b[0m\u001b[0mreadline\u001b[0m\u001b[0;34m(\u001b[0m\u001b[0;34m)\u001b[0m\u001b[0;34m[\u001b[0m\u001b[0;34m:\u001b[0m\u001b[0;34m-\u001b[0m\u001b[0;36m1\u001b[0m\u001b[0;34m]\u001b[0m\u001b[0;34m)\u001b[0m\u001b[0;34m\u001b[0m\u001b[0;34m\u001b[0m\u001b[0m\n\u001b[0m\u001b[1;32m   1153\u001b[0m             \u001b[0mlogger\u001b[0m\u001b[0;34m.\u001b[0m\u001b[0mdebug\u001b[0m\u001b[0;34m(\u001b[0m\u001b[0;34m\"Answer received: {0}\"\u001b[0m\u001b[0;34m.\u001b[0m\u001b[0mformat\u001b[0m\u001b[0;34m(\u001b[0m\u001b[0manswer\u001b[0m\u001b[0;34m)\u001b[0m\u001b[0;34m)\u001b[0m\u001b[0;34m\u001b[0m\u001b[0;34m\u001b[0m\u001b[0m\n\u001b[1;32m   1154\u001b[0m             \u001b[0;32mif\u001b[0m \u001b[0manswer\u001b[0m\u001b[0;34m.\u001b[0m\u001b[0mstartswith\u001b[0m\u001b[0;34m(\u001b[0m\u001b[0mproto\u001b[0m\u001b[0;34m.\u001b[0m\u001b[0mRETURN_MESSAGE\u001b[0m\u001b[0;34m)\u001b[0m\u001b[0;34m:\u001b[0m\u001b[0;34m\u001b[0m\u001b[0;34m\u001b[0m\u001b[0m\n",
            "\u001b[0;32m/usr/lib/python3.7/socket.py\u001b[0m in \u001b[0;36mreadinto\u001b[0;34m(self, b)\u001b[0m\n\u001b[1;32m    587\u001b[0m         \u001b[0;32mwhile\u001b[0m \u001b[0;32mTrue\u001b[0m\u001b[0;34m:\u001b[0m\u001b[0;34m\u001b[0m\u001b[0;34m\u001b[0m\u001b[0m\n\u001b[1;32m    588\u001b[0m             \u001b[0;32mtry\u001b[0m\u001b[0;34m:\u001b[0m\u001b[0;34m\u001b[0m\u001b[0;34m\u001b[0m\u001b[0m\n\u001b[0;32m--> 589\u001b[0;31m                 \u001b[0;32mreturn\u001b[0m \u001b[0mself\u001b[0m\u001b[0;34m.\u001b[0m\u001b[0m_sock\u001b[0m\u001b[0;34m.\u001b[0m\u001b[0mrecv_into\u001b[0m\u001b[0;34m(\u001b[0m\u001b[0mb\u001b[0m\u001b[0;34m)\u001b[0m\u001b[0;34m\u001b[0m\u001b[0;34m\u001b[0m\u001b[0m\n\u001b[0m\u001b[1;32m    590\u001b[0m             \u001b[0;32mexcept\u001b[0m \u001b[0mtimeout\u001b[0m\u001b[0;34m:\u001b[0m\u001b[0;34m\u001b[0m\u001b[0;34m\u001b[0m\u001b[0m\n\u001b[1;32m    591\u001b[0m                 \u001b[0mself\u001b[0m\u001b[0;34m.\u001b[0m\u001b[0m_timeout_occurred\u001b[0m \u001b[0;34m=\u001b[0m \u001b[0;32mTrue\u001b[0m\u001b[0;34m\u001b[0m\u001b[0;34m\u001b[0m\u001b[0m\n",
            "\u001b[0;31mKeyboardInterrupt\u001b[0m: "
          ]
        }
      ],
      "source": [
        "(training, test) = ratings.randomSplit([0.8, 0.2])\n",
        "als = ALS(userCol=\"userId\", itemCol=\"movieId\", ratingCol=\"rating\", rank = 51, coldStartStrategy=\"drop\", nonnegative= True)\n",
        "param_grid=ParamGridBuilder().addGrid(als.maxIter,[10, 20]).addGrid(als.regParam,[.1,.01, .001]).build()\n",
        "evaluator = RegressionEvaluator(metricName=\"rmse\", labelCol=\"rating\", predictionCol=\"prediction\")\n",
        "tvs= TrainValidationSplit(estimator=als, estimatorParamMaps=param_grid,evaluator=evaluator)\n",
        "print (\"start training\")\n",
        "model = tvs.fit(training)"
      ]
    },
    {
      "cell_type": "markdown",
      "source": [
        "##Evaluating"
      ],
      "metadata": {
        "id": "3IweuGhljCm8"
      }
    },
    {
      "cell_type": "code",
      "execution_count": null,
      "metadata": {
        "id": "jsMIovrP2dmU"
      },
      "outputs": [],
      "source": [
        "best_model = model.bestModel\n",
        "print(\"start testing\")\n",
        "predictions = best_model.transform(test)\n",
        "print(\"start evaluation\")\n",
        "rmse = evaluator.evaluate(predictions)\n",
        "print(\"Root-mean-square error = \", str(rmse))\n",
        "print(\"**bestModel**\")\n",
        "print(\" rank:\", best_model.rank)\n",
        "print(\" maxIter:\", best_model._java_obj.parent().getMaxIter())\n",
        "print(\" regParam:\", best_model._java_obj.parent().getRegParam())\n",
        "predictions.sort(\"userId\", \"rating\").show()"
      ]
    },
    {
      "cell_type": "markdown",
      "source": [
        "# Exploring Movies Datasets"
      ],
      "metadata": {
        "id": "yRc1Xe9ueV4P"
      }
    },
    {
      "cell_type": "code",
      "execution_count": null,
      "metadata": {
        "colab": {
          "base_uri": "https://localhost:8080/"
        },
        "id": "IPT2W73I2v1B",
        "outputId": "23385a91-63fe-4fe8-cf44-fba920d85746"
      },
      "outputs": [
        {
          "output_type": "stream",
          "name": "stdout",
          "text": [
            "['1', 'Toy Story (1995)', '01-Jan-1995', '', 'http://us.imdb.com/M/title-exact?Toy%20Story%20(1995)', '0', '0', '0', '1', '1', '1', '0', '0', '0', '0', '0', '0', '0', '0', '0', '0', '0', '0', '0']\n",
            "+-------+--------------------+-----------+--------------------+\n",
            "|movieId|           movieName|releaseDate|                 url|\n",
            "+-------+--------------------+-----------+--------------------+\n",
            "|      1|    Toy Story (1995)|01-Jan-1995|http://us.imdb.co...|\n",
            "|      2|    GoldenEye (1995)|01-Jan-1995|http://us.imdb.co...|\n",
            "|      3|   Four Rooms (1995)|01-Jan-1995|http://us.imdb.co...|\n",
            "|      4|   Get Shorty (1995)|01-Jan-1995|http://us.imdb.co...|\n",
            "|      5|      Copycat (1995)|01-Jan-1995|http://us.imdb.co...|\n",
            "|      6|Shanghai Triad (Y...|01-Jan-1995|http://us.imdb.co...|\n",
            "|      7|Twelve Monkeys (1...|01-Jan-1995|http://us.imdb.co...|\n",
            "|      8|         Babe (1995)|01-Jan-1995|http://us.imdb.co...|\n",
            "|      9|Dead Man Walking ...|01-Jan-1995|http://us.imdb.co...|\n",
            "|     10|  Richard III (1995)|22-Jan-1996|http://us.imdb.co...|\n",
            "|     11|Seven (Se7en) (1995)|01-Jan-1995|http://us.imdb.co...|\n",
            "|     12|Usual Suspects, T...|14-Aug-1995|http://us.imdb.co...|\n",
            "|     13|Mighty Aphrodite ...|30-Oct-1995|http://us.imdb.co...|\n",
            "|     14|  Postino, Il (1994)|01-Jan-1994|http://us.imdb.co...|\n",
            "|     15|Mr. Holland's Opu...|29-Jan-1996|http://us.imdb.co...|\n",
            "|     16|French Twist (Gaz...|01-Jan-1995|http://us.imdb.co...|\n",
            "|     17|From Dusk Till Da...|05-Feb-1996|http://us.imdb.co...|\n",
            "|     18|White Balloon, Th...|01-Jan-1995|http://us.imdb.co...|\n",
            "|     19|Antonia's Line (1...|01-Jan-1995|http://us.imdb.co...|\n",
            "|     20|Angels and Insect...|01-Jan-1995|http://us.imdb.co...|\n",
            "+-------+--------------------+-----------+--------------------+\n",
            "only showing top 20 rows\n",
            "\n"
          ]
        }
      ],
      "source": [
        "movies_raw = sc.textFile(\"/content/drive/MyDrive/ml-100k/u.item\")\n",
        "movies = movies_raw.map(lambda row: row.split(\"|\"))\n",
        "print(movies.first())\n",
        "moviesRDD = movies.map(lambda p: Row(movieId=int(p[0]), movieName=p[1], releaseDate = p[2], url = p[4]))\n",
        "moviesDF = spark.createDataFrame(moviesRDD)\n",
        "moviesDF.show()"
      ]
    },
    {
      "cell_type": "code",
      "execution_count": null,
      "metadata": {
        "colab": {
          "base_uri": "https://localhost:8080/"
        },
        "id": "XH90_a4q7erb",
        "outputId": "eb764f31-316b-48ac-d042-75dcf9398f48"
      },
      "outputs": [
        {
          "output_type": "stream",
          "name": "stdout",
          "text": [
            "1682\n"
          ]
        }
      ],
      "source": [
        "r = moviesRDD.map(lambda x: x[0]).count()\n",
        "print(r)"
      ]
    },
    {
      "cell_type": "markdown",
      "source": [
        "# Checking out joins between users and movies + occupations based approach"
      ],
      "metadata": {
        "id": "yeqOYBOMeg9B"
      }
    },
    {
      "cell_type": "code",
      "execution_count": null,
      "metadata": {
        "colab": {
          "base_uri": "https://localhost:8080/"
        },
        "id": "TGiVmkMp3Npp",
        "outputId": "de7fd2e1-9de5-444a-ad45-f75dddf828fd"
      },
      "outputs": [
        {
          "output_type": "stream",
          "name": "stdout",
          "text": [
            "['1', '24', 'M', 'technician', '85711']\n",
            "Row(userAge=24, userGender='M', userId=1, userOccupation='technician')\n"
          ]
        }
      ],
      "source": [
        "users_raw = sc.textFile(\"/content/drive/MyDrive/ml-100k/u.user\")\n",
        "users = users_raw.map(lambda row: row.split(\"|\"))\n",
        "print(users.first())\n",
        "usersRDD = users.map(lambda p: Row(userId=int(p[0]),userAge=int(p[1]), userGender = p[2], userOccupation = p[3] ))\n",
        "usersDF = spark.createDataFrame(usersRDD)\n",
        "print(usersDF.head())"
      ]
    },
    {
      "cell_type": "code",
      "execution_count": null,
      "metadata": {
        "id": "2g__qs4a38zJ",
        "colab": {
          "base_uri": "https://localhost:8080/"
        },
        "outputId": "98dd0ac2-9a7f-47bb-ae8d-237af4f7fba8"
      },
      "outputs": [
        {
          "output_type": "stream",
          "name": "stdout",
          "text": [
            "+------+-------+------+---------+--------------------+-----------+--------------------+-------+----------+--------------+\n",
            "|userId|movieId|rating|timestamp|           movieName|releaseDate|                 url|userAge|userGender|userOccupation|\n",
            "+------+-------+------+---------+--------------------+-----------+--------------------+-------+----------+--------------+\n",
            "|    26|   1010|   2.0|891377609|     Basquiat (1996)|16-Aug-1996|http://us.imdb.co...|     49|         M|      engineer|\n",
            "|    26|    222|   3.0|891371369|Star Trek: First ...|22-Nov-1996|http://us.imdb.co...|     49|         M|      engineer|\n",
            "|    26|    293|   3.0|891371369|Donnie Brasco (1997)|28-Feb-1997|http://us.imdb.co...|     49|         M|      engineer|\n",
            "|    26|    926|   2.0|891385692|Down Periscope (1...|01-Mar-1996|http://us.imdb.co...|     49|         M|      engineer|\n",
            "|    26|    831|   2.0|891379753|Escape from L.A. ...|09-Aug-1996|http://us.imdb.co...|     49|         M|      engineer|\n",
            "|    26|    237|   3.0|891351590|Jerry Maguire (1996)|13-Dec-1996|http://us.imdb.co...|     49|         M|      engineer|\n",
            "|    26|      7|   3.0|891350826|Twelve Monkeys (1...|01-Jan-1995|http://us.imdb.co...|     49|         M|      engineer|\n",
            "|    26|    126|   4.0|891371676|Spitfire Grill, T...|06-Sep-1996|http://us.imdb.co...|     49|         M|      engineer|\n",
            "|    26|    274|   3.0|891385634|      Sabrina (1995)|01-Jan-1995|http://us.imdb.co...|     49|         M|      engineer|\n",
            "|    26|     50|   4.0|891386368|    Star Wars (1977)|01-Jan-1977|http://us.imdb.co...|     49|         M|      engineer|\n",
            "|    26|    343|   3.0|891349238|Alien: Resurrecti...|01-Jan-1997|http://us.imdb.co...|     49|         M|      engineer|\n",
            "|    26|    936|   4.0|891352136|  Brassed Off (1996)|13-Jun-1997|http://us.imdb.co...|     49|         M|      engineer|\n",
            "|    26|    845|   3.0|891377468|That Thing You Do...|28-Sep-1996|http://us.imdb.co...|     49|         M|      engineer|\n",
            "|    26|    116|   2.0|891352941|Cold Comfort Farm...|23-Apr-1996|http://us.imdb.co...|     49|         M|      engineer|\n",
            "|    26|     25|   3.0|891373727|Birdcage, The (1996)|08-Mar-1996|http://us.imdb.co...|     49|         M|      engineer|\n",
            "|    26|    181|   4.0|891386369|Return of the Jed...|14-Mar-1997|http://us.imdb.co...|     49|         M|      engineer|\n",
            "|    26|   1016|   3.0|891377609|      Con Air (1997)|06-Jun-1997|http://us.imdb.co...|     49|         M|      engineer|\n",
            "|    26|    369|   2.0|891379664|  Black Sheep (1996)|02-Feb-1996|http://us.imdb.co...|     49|         M|      engineer|\n",
            "|    26|    413|   2.0|891386049|Tales from the Cr...|19-Jul-1996|http://us.imdb.co...|     49|         M|      engineer|\n",
            "|    26|    455|   3.0|891371506|Jackie Chan's Fir...|10-Jan-1997|http://us.imdb.co...|     49|         M|      engineer|\n",
            "+------+-------+------+---------+--------------------+-----------+--------------------+-------+----------+--------------+\n",
            "only showing top 20 rows\n",
            "\n"
          ]
        }
      ],
      "source": [
        "movies_rated = ratings.join(moviesDF, ['movieId'], how='inner')\n",
        "user_movies_rated = movies_rated.join(usersDF, ['userId'], how='inner')\n",
        "user_movies_rated.show()"
      ]
    },
    {
      "cell_type": "markdown",
      "source": [
        "##Occupations Based Approach"
      ],
      "metadata": {
        "id": "43A7ogowkWJH"
      }
    },
    {
      "cell_type": "code",
      "source": [
        "#future exploration assign mean of ratings for users with same occupation\n",
        "from pyspark.sql.functions import udf\n",
        "from pyspark.sql.types import FloatType\n",
        "\n",
        "array_mean = udf(lambda x: float(np.mean(x)), FloatType())#user defined function\n",
        "df_group = user_movies_rated.groupBy('userOccupation', 'movieId').agg(array_mean(F.collect_list('rating')).alias('ratings'))\n",
        "df_group.show()"
      ],
      "metadata": {
        "colab": {
          "base_uri": "https://localhost:8080/"
        },
        "id": "26U77T8MRSQ0",
        "outputId": "c9c5a9b8-e777-487b-a238-2ba25d21b78b"
      },
      "execution_count": null,
      "outputs": [
        {
          "output_type": "stream",
          "name": "stdout",
          "text": [
            "+--------------+-------+---------+\n",
            "|userOccupation|movieId|  ratings|\n",
            "+--------------+-------+---------+\n",
            "|      engineer|    257|3.8148148|\n",
            "|     executive|    481|      4.5|\n",
            "|     executive|   1011|      3.5|\n",
            "|       student|     15|     3.85|\n",
            "|       student|    560|      3.0|\n",
            "|    programmer|    191|     3.92|\n",
            "|        writer|     27|2.3333333|\n",
            "| administrator|     56| 4.032258|\n",
            "| administrator|    147|3.7333333|\n",
            "|         other|    326|      3.6|\n",
            "|       student|    969|3.9444444|\n",
            "|      educator|     38|3.4285715|\n",
            "|     executive|    876|1.6666666|\n",
            "|        artist|     48|      4.0|\n",
            "|        doctor|    292|      2.0|\n",
            "|      educator|    520|     3.95|\n",
            "|      engineer|     42|3.6923077|\n",
            "| administrator|    520| 4.090909|\n",
            "| administrator|    595|2.6666667|\n",
            "|    healthcare|    257| 3.142857|\n",
            "+--------------+-------+---------+\n",
            "only showing top 20 rows\n",
            "\n"
          ]
        }
      ]
    },
    {
      "cell_type": "code",
      "source": [
        "#assign mean values to some users whose job is one of the above for a movie that is not defined for them\n",
        "\n",
        "#collected_users\n",
        "existing_movie_ids = df_group.select(\"movieId\").rdd.flatMap(lambda x: x).collect()\n",
        "existing_user_occupations = df_group.select(\"userOccupation\").rdd.flatMap(lambda x: x).collect()\n",
        "existing_ratings = df_group.select(\"ratings\").rdd.flatMap(lambda x: x).collect()\n",
        "\n",
        "#create movie array for each user, iterate users that does not have a rating for a selected movie for a specific\n",
        "#occupation and assign the appropriate value to that user"
      ],
      "metadata": {
        "id": "wHIATXTiV14j"
      },
      "execution_count": null,
      "outputs": []
    },
    {
      "cell_type": "code",
      "source": [
        "def fill_some_means(usersRDD, ratings, depth):#usersRDD and ratings DF\n",
        "  usersPrep = spark.createDataFrame(usersRDD)\n",
        "  #usersPrep.show()\n",
        "  prepared_DF = usersPrep.join(ratings, ['userId'], how='inner')\n",
        "  df1 = prepared_DF.groupBy('userId', 'userOccupation').agg(F.collect_list('movieId').alias('movieIds'), F.collect_list('rating').alias('ratings'))\n",
        "  #df1.show()\n",
        "  movies = df1.rdd.map(lambda x: x[2]).collect()\n",
        "  ratings = df1.rdd.map(lambda x: x[3]).collect()\n",
        "  users = df1.rdd.map(lambda x: x[0]).collect()\n",
        "  occupations = df1.rdd.map(lambda x: x[1]).collect()\n",
        "  user_counter = 0\n",
        "  final_list = []\n",
        "  for movie_list in movies:\n",
        "    tmpVector = [0.0] * 1682\n",
        "    for j in range(len(movie_list)):\n",
        "      tmpVector[movie_list[j] - 1] = ratings[user_counter][j] #0 based but movie index 1 based\n",
        "    final_list.append((users[user_counter], occupations[user_counter], tmpVector))\n",
        "    user_counter += 1\n",
        "  final_df =spark.createDataFrame(data = final_list, schema = [\"userId\",\"occupation\", \"movies_rating\"])\n",
        "  #final_df.show()\n",
        "  final_rdd = final_df.rdd\n",
        "  rows = final_rdd.map(lambda x: (x[0], x[1], np.array(x[2]))).collect()\n",
        "  #print(rows[0])\n",
        "  for i in range(len(rows)):\n",
        "    if rows[i][1] in existing_user_occupations:\n",
        "      #we have a mean for some movies\n",
        "      #use some of these movies to replenish data\n",
        "      indices = [k for k, x in enumerate(existing_user_occupations) if x == rows[i][1]]\n",
        "      #####set max depth for each iteration to avoid overflow\n",
        "      if(depth > len(indices)):\n",
        "        depth = len(indices)\n",
        "      #get indices for the movie with such occupation\n",
        "      for j in range(depth):\n",
        "        if rows[i][2][existing_movie_ids[indices[j]] - 1] == 0:#movies 0 based\n",
        "          rows[i][2][existing_movie_ids[indices[j]] - 1] = existing_ratings[indices[j]]\n",
        "          #if the movie with such occupation is null assign the mean to it\n",
        "  arr = []\n",
        "  for row in rows:\n",
        "    for movie in range(len(row[2])):\n",
        "      if (row[2][movie] != 0):#non null rating\n",
        "        arr.append((row[0], movie + 1, float(row[2][movie])))#ignore occupation as we re done using it\n",
        "  final_prediction_df = spark.createDataFrame(data = arr, schema = [\"userId\", \"movieId\", \"rating\"])\n",
        "  return final_prediction_df\n",
        "\n",
        "\n",
        "\n",
        "usersRDD2 = users.map(lambda p: Row(userId=int(p[0]), userOccupation = p[3]))\n",
        "t = fill_some_means(usersRDD2, ratings, 500)#30%\n",
        "# of them for each user\n",
        "t.show()\n"
      ],
      "metadata": {
        "colab": {
          "base_uri": "https://localhost:8080/"
        },
        "id": "9nmABm1eZxwR",
        "outputId": "dfed0c5e-e2a0-4dff-c93f-c1fe00fa41b4"
      },
      "execution_count": null,
      "outputs": [
        {
          "output_type": "stream",
          "name": "stdout",
          "text": [
            "+------+-------+------------------+\n",
            "|userId|movieId|            rating|\n",
            "+------+-------+------------------+\n",
            "|    26|      1|               3.0|\n",
            "|    26|      2| 4.166666507720947|\n",
            "|    26|      3|3.3333332538604736|\n",
            "|    26|      4|               3.0|\n",
            "|    26|      7|               3.0|\n",
            "|    26|      9|               4.0|\n",
            "|    26|     12|               5.0|\n",
            "|    26|     13|               3.0|\n",
            "|    26|     14|               3.0|\n",
            "|    26|     15|               4.0|\n",
            "|    26|     16|             3.125|\n",
            "|    26|     19|              3.75|\n",
            "|    26|     21| 3.799999952316284|\n",
            "|    26|     23|            4.1875|\n",
            "|    26|     24|               3.0|\n",
            "|    26|     25|               3.0|\n",
            "|    26|     29|              2.25|\n",
            "|    26|     30|               3.5|\n",
            "|    26|     32|               5.0|\n",
            "|    26|     42|               2.0|\n",
            "+------+-------+------------------+\n",
            "only showing top 20 rows\n",
            "\n"
          ]
        }
      ]
    },
    {
      "cell_type": "code",
      "source": [
        "#we filled values according to occupation\n",
        "print(t.count())\n",
        "#now lets predict again\n",
        "(training, test) = t.randomSplit([0.8, 0.2])\n",
        "als = ALS(userCol=\"userId\", itemCol=\"movieId\", ratingCol=\"rating\", rank = 51, coldStartStrategy=\"drop\", nonnegative= True)\n",
        "param_grid=ParamGridBuilder().addGrid(als.maxIter,[10, 20]).addGrid(als.regParam,[.1,.01, .001]).build()\n",
        "evaluator = RegressionEvaluator(metricName=\"rmse\", labelCol=\"rating\", predictionCol=\"prediction\")\n",
        "tvs= TrainValidationSplit(estimator=als, estimatorParamMaps=param_grid,evaluator=evaluator)\n",
        "print (\"start training\")\n",
        "model = tvs.fit(training)"
      ],
      "metadata": {
        "colab": {
          "base_uri": "https://localhost:8080/"
        },
        "id": "McW53sCyfu8d",
        "outputId": "26c92489-ac55-4f69-a7c6-fe8e4de89c92"
      },
      "execution_count": null,
      "outputs": [
        {
          "output_type": "stream",
          "name": "stdout",
          "text": [
            "336260\n",
            "start training\n"
          ]
        }
      ]
    },
    {
      "cell_type": "code",
      "source": [
        "best_model = model.bestModel\n",
        "print(\"start testing\")\n",
        "predictions = best_model.transform(test)\n",
        "print(\"start evaluation\")\n",
        "rmse = evaluator.evaluate(predictions)\n",
        "print(\"Root-mean-square error = \", str(rmse))\n",
        "print(\"**bestModel**\")\n",
        "print(\" rank:\", best_model.rank)\n",
        "print(\" maxIter:\", best_model._java_obj.parent().getMaxIter())\n",
        "print(\" regParam:\", best_model._java_obj.parent().getRegParam())\n",
        "predictions.sort(\"userId\", \"rating\").show()"
      ],
      "metadata": {
        "colab": {
          "base_uri": "https://localhost:8080/"
        },
        "id": "MB_kC4PDgNPF",
        "outputId": "01b93433-fe8c-4930-e8d8-d82adf1ea7f2"
      },
      "execution_count": null,
      "outputs": [
        {
          "output_type": "stream",
          "name": "stdout",
          "text": [
            "start testing\n",
            "start evaluation\n",
            "Root-mean-square error =  0.6280715945937412\n",
            "**bestModel**\n",
            " rank: 51\n",
            " maxIter: 20\n",
            " regParam: 0.1\n",
            "+------+-------+------+----------+\n",
            "|userId|movieId|rating|prediction|\n",
            "+------+-------+------+----------+\n",
            "|     1|   1057|   1.0|    2.0165|\n",
            "|     1|    302|   1.0| 3.0318727|\n",
            "|     1|    243|   1.0| 2.4286635|\n",
            "|     1|    862|   1.0| 2.2939937|\n",
            "|     1|    112|   1.0| 2.4761884|\n",
            "|     1|    103|   1.0| 2.7776766|\n",
            "|     1|    231|   1.0| 2.8484313|\n",
            "|     1|    104|   1.0| 1.0534246|\n",
            "|     1|    252|   2.0| 3.0114105|\n",
            "|     1|    145|   2.0| 2.6335301|\n",
            "|     1|     11|   2.0|  3.670374|\n",
            "|     1|    101|   2.0|  3.131624|\n",
            "|     1|    264|   2.0| 2.9067798|\n",
            "|     1|   1053|   2.0| 3.0110815|\n",
            "|     1|   1040|   2.0|  2.453685|\n",
            "|     1|    244|   2.0| 3.2660897|\n",
            "|     1|     34|   2.0| 2.1266098|\n",
            "|     1|    929|   2.0| 2.3323271|\n",
            "|     1|    237|   2.0| 3.5575495|\n",
            "|     1|    225|   2.0| 3.1660943|\n",
            "+------+-------+------+----------+\n",
            "only showing top 20 rows\n",
            "\n"
          ]
        }
      ]
    },
    {
      "cell_type": "code",
      "source": [
        "print(df_group.select(\"movieId\").distinct().count())\n",
        "print(movies_df.count())\n",
        "#we filled up all the values by the mean so its overfit"
      ],
      "metadata": {
        "colab": {
          "base_uri": "https://localhost:8080/"
        },
        "id": "oZHzIpUziDDO",
        "outputId": "a86442f8-ca53-4b2b-e87c-2ca3191c1a58"
      },
      "execution_count": null,
      "outputs": [
        {
          "output_type": "stream",
          "name": "stdout",
          "text": [
            "1682\n",
            "1682\n"
          ]
        }
      ]
    },
    {
      "cell_type": "markdown",
      "source": [
        "# Exploring Cosin Similiarity based on movies genres"
      ],
      "metadata": {
        "id": "rbmp3mupep2D"
      }
    },
    {
      "cell_type": "code",
      "execution_count": null,
      "metadata": {
        "colab": {
          "base_uri": "https://localhost:8080/"
        },
        "id": "JcElImor5ceZ",
        "outputId": "ff2ddb61-234a-4af5-831e-f36382c2263b"
      },
      "outputs": [
        {
          "output_type": "stream",
          "name": "stdout",
          "text": [
            "[0, 0, 0, 1, 1, 1, 0, 0, 0, 0, 0, 0, 0, 0, 0, 0, 0, 0, 0]\n",
            "[0, 1, 0, 0, 0, 1, 0, 0, 1, 0, 0, 0, 0, 0, 0, 0, 0, 0, 0]\n"
          ]
        }
      ],
      "source": [
        "#movies.first()\n",
        "vectors = movies.take(5)\n",
        "vector_1 = vectors[0][5:]\n",
        "vector_2 = vectors[3][5:]\n",
        "vector1 = [int(x) for x in vector_1]\n",
        "vector2 = [int(x) for x in vector_2]\n",
        "print(vector1)\n",
        "print(vector2)"
      ]
    },
    {
      "cell_type": "code",
      "execution_count": null,
      "metadata": {
        "colab": {
          "base_uri": "https://localhost:8080/"
        },
        "id": "YSBCoKTKot-E",
        "outputId": "5133861b-195b-4bf9-debc-8e7631018e69"
      },
      "outputs": [
        {
          "output_type": "stream",
          "name": "stdout",
          "text": [
            "0.33333333333333337\n",
            "[0, 0, 0, 1, 1, 1, 0, 0, 0, 0, 0, 0, 0, 0, 0, 0, 0, 0, 0]\n",
            "+---------+--------------------+\n",
            "|movies_id|               genre|\n",
            "+---------+--------------------+\n",
            "|        1|[0, 0, 0, 1, 1, 1...|\n",
            "|        2|[0, 1, 1, 0, 0, 0...|\n",
            "|        3|[0, 0, 0, 0, 0, 0...|\n",
            "|        4|[0, 1, 0, 0, 0, 1...|\n",
            "|        5|[0, 0, 0, 0, 0, 0...|\n",
            "|        6|[0, 0, 0, 0, 0, 0...|\n",
            "|        7|[0, 0, 0, 0, 0, 0...|\n",
            "|        8|[0, 0, 0, 0, 1, 1...|\n",
            "|        9|[0, 0, 0, 0, 0, 0...|\n",
            "|       10|[0, 0, 0, 0, 0, 0...|\n",
            "|       11|[0, 0, 0, 0, 0, 0...|\n",
            "|       12|[0, 0, 0, 0, 0, 0...|\n",
            "|       13|[0, 0, 0, 0, 0, 1...|\n",
            "|       14|[0, 0, 0, 0, 0, 0...|\n",
            "|       15|[0, 0, 0, 0, 0, 0...|\n",
            "|       16|[0, 0, 0, 0, 0, 1...|\n",
            "|       17|[0, 1, 0, 0, 0, 1...|\n",
            "|       18|[0, 0, 0, 0, 0, 0...|\n",
            "|       19|[0, 0, 0, 0, 0, 0...|\n",
            "|       20|[0, 0, 0, 0, 0, 0...|\n",
            "+---------+--------------------+\n",
            "only showing top 20 rows\n",
            "\n"
          ]
        },
        {
          "output_type": "execute_result",
          "data": {
            "text/plain": [
              "1682"
            ]
          },
          "metadata": {},
          "execution_count": 19
        }
      ],
      "source": [
        "import numpy as np\n",
        "v1 = np.array(vector1)\n",
        "v2 = np.array(vector2)\n",
        "def cosin_sim(v1, v2):\n",
        "  return np.dot(v1, v2) / (np.linalg.norm(v1) * np.linalg.norm(v2))\n",
        "print(cosin_sim(v1, v2))\n",
        "\n",
        "vectorsRDD = movies.map(lambda row: row[5:])\n",
        "vectorsList = vectorsRDD.collect()\n",
        "genres_result = []\n",
        "for genre in vectorsList:\n",
        "  genres_result.append([int(x) for x in genre])\n",
        "print(genres_result[0])\n",
        "\n",
        "\n",
        "movies_id = movies.map(lambda p:int(p[0])).collect()\n",
        "result = []\n",
        "for i in range(len(movies_id)):\n",
        "  result.append((movies_id[i], genres_result[i]))\n",
        "movies_df =spark.createDataFrame(data = result, schema = [\"movies_id\", \"genre\"])\n",
        "movies_df.show()\n",
        "len(movies_id)#1682 * 1000 = 1682000 cosin similiarity can make sense for sparse vectors\n",
        "#each user will have a list of ratings of 1682 element"
      ]
    },
    {
      "cell_type": "markdown",
      "source": [
        "##Issue with genres based approach:\n",
        "Suppose we have 1000 movies that are equally similiar genre wise.\n",
        "user 1 rated one movie 5.0, we would then assign 999 movies to his previous rating which is 5.0, we would end up with 999 recommendations that the user might just hate all of them. Would you like 999 comedy movies if you liked only one? of course not as there are many other factors including actors in the movie for example.\n"
      ],
      "metadata": {
        "id": "azEQu2RvgmYu"
      }
    },
    {
      "cell_type": "markdown",
      "source": [
        "# Movies Ratings Based Cosin Similiarity"
      ],
      "metadata": {
        "id": "4vIo_lBkfCps"
      }
    },
    {
      "cell_type": "code",
      "execution_count": null,
      "metadata": {
        "colab": {
          "base_uri": "https://localhost:8080/"
        },
        "id": "IZ3zCVsCxgVG",
        "outputId": "ad82b5dc-4358-4300-9113-16102e034eb0"
      },
      "outputs": [
        {
          "output_type": "stream",
          "name": "stdout",
          "text": [
            "+-------+------+---------+------+\n",
            "|movieId|rating|timestamp|userId|\n",
            "+-------+------+---------+------+\n",
            "|    242|   3.0|881250949|   196|\n",
            "|    302|   3.0|891717742|   186|\n",
            "|    377|   1.0|878887116|    22|\n",
            "|     51|   2.0|880606923|   244|\n",
            "|    346|   1.0|886397596|   166|\n",
            "|    474|   4.0|884182806|   298|\n",
            "|    265|   2.0|881171488|   115|\n",
            "|    465|   5.0|891628467|   253|\n",
            "|    451|   3.0|886324817|   305|\n",
            "|     86|   3.0|883603013|     6|\n",
            "|    257|   2.0|879372434|    62|\n",
            "|   1014|   5.0|879781125|   286|\n",
            "|    222|   5.0|876042340|   200|\n",
            "|     40|   3.0|891035994|   210|\n",
            "|     29|   3.0|888104457|   224|\n",
            "|    785|   3.0|879485318|   303|\n",
            "|    387|   5.0|879270459|   122|\n",
            "|    274|   2.0|879539794|   194|\n",
            "|   1042|   4.0|874834944|   291|\n",
            "|   1184|   2.0|892079237|   234|\n",
            "+-------+------+---------+------+\n",
            "only showing top 20 rows\n",
            "\n"
          ]
        }
      ],
      "source": [
        "ratings.show()"
      ]
    },
    {
      "cell_type": "code",
      "execution_count": null,
      "metadata": {
        "colab": {
          "base_uri": "https://localhost:8080/"
        },
        "id": "D4s2KsQJxxHf",
        "outputId": "21d5b2b8-78c7-468f-c31b-4fb1a8a28585"
      },
      "outputs": [
        {
          "output_type": "stream",
          "name": "stdout",
          "text": [
            "+------+--------------------+--------------------+\n",
            "|userId|            movieIds|             ratings|\n",
            "+------+--------------------+--------------------+\n",
            "|    26|[258, 930, 1015, ...|[3.0, 2.0, 3.0, 4...|\n",
            "|    29|[245, 189, 332, 5...|[3.0, 4.0, 4.0, 2...|\n",
            "|   474|[8, 602, 410, 480...|[5.0, 3.0, 2.0, 5...|\n",
            "|    65|[47, 806, 125, 11...|[2.0, 4.0, 4.0, 4...|\n",
            "|   191|[302, 286, 751, 7...|[4.0, 4.0, 3.0, 3...|\n",
            "|   418|[362, 313, 301, 3...|[1.0, 3.0, 2.0, 4...|\n",
            "|   541|[756, 654, 28, 21...|[4.0, 3.0, 4.0, 5...|\n",
            "|   558|[116, 936, 124, 5...|[5.0, 5.0, 4.0, 5...|\n",
            "|   222|[366, 750, 755, 1...|[4.0, 5.0, 4.0, 4...|\n",
            "|   270|[452, 25, 98, 558...|[4.0, 5.0, 5.0, 5...|\n",
            "|   293|[5, 685, 471, 126...|[3.0, 3.0, 3.0, 3...|\n",
            "|   730|[298, 332, 50, 74...|[4.0, 3.0, 4.0, 4...|\n",
            "|   938|[864, 122, 313, 2...|[4.0, 1.0, 5.0, 2...|\n",
            "|   243|[15, 1039, 208, 6...|[3.0, 4.0, 4.0, 4...|\n",
            "|   278|[603, 311, 301, 9...|[5.0, 4.0, 2.0, 4...|\n",
            "|   367|[1012, 250, 246, ...|[4.0, 5.0, 4.0, 4...|\n",
            "|   442|[401, 385, 31, 18...|[2.0, 3.0, 3.0, 4...|\n",
            "|   705|[1043, 578, 58, 8...|[5.0, 3.0, 2.0, 4...|\n",
            "|   720|[872, 258, 304, 9...|[3.0, 4.0, 4.0, 4...|\n",
            "|    19|[4, 435, 655, 153...|[4.0, 5.0, 3.0, 4...|\n",
            "+------+--------------------+--------------------+\n",
            "only showing top 20 rows\n",
            "\n"
          ]
        }
      ],
      "source": [
        "usersRDD = users.map(lambda p: Row(userId = int(p[0])))\n",
        "usersRDD.first()\n",
        "usersPrep = spark.createDataFrame(usersRDD)\n",
        "#how to link a sparse vector of movies to every user?\n",
        "from pyspark.sql import functions as F\n",
        "prepared_DF = usersPrep.join(ratings, ['userId'], how='inner')\n",
        "df1 = prepared_DF.groupBy('userId').agg(F.collect_list('movieId').alias('movieIds'), F.collect_list('rating').alias('ratings'))\n",
        "df1.show()\n",
        "#ratings.filter(ratings.userId == 1).select(\"rating\", \"movieId\").rdd.first()"
      ]
    },
    {
      "cell_type": "code",
      "execution_count": null,
      "metadata": {
        "colab": {
          "base_uri": "https://localhost:8080/"
        },
        "id": "_7v9Npez6lOX",
        "outputId": "0aeec680-9c93-4c0d-eb01-affe65184f9f"
      },
      "outputs": [
        {
          "output_type": "stream",
          "name": "stdout",
          "text": [
            "(26, [3.0, 0.0, 0.0, 0.0, 0.0, 0.0, 3.0, 0.0, 4.0, 0.0, 0.0, 0.0, 3.0, 3.0, 4.0, 0.0, 0.0, 0.0, 0.0, 0.0, 0.0, 0.0, 0.0, 3.0, 3.0, 0.0, 0.0, 0.0, 0.0, 0.0, 0.0, 0.0, 0.0, 0.0, 0.0, 0.0, 0.0, 0.0, 0.0, 0.0, 0.0, 0.0, 0.0, 0.0, 0.0, 0.0, 0.0, 0.0, 0.0, 4.0, 0.0, 0.0, 0.0, 0.0, 0.0, 0.0, 0.0, 0.0, 0.0, 0.0, 0.0, 0.0, 0.0, 0.0, 0.0, 0.0, 0.0, 0.0, 0.0, 0.0, 0.0, 0.0, 0.0, 0.0, 0.0, 0.0, 0.0, 0.0, 0.0, 0.0, 0.0, 0.0, 0.0, 0.0, 0.0, 0.0, 0.0, 0.0, 0.0, 0.0, 0.0, 0.0, 0.0, 0.0, 0.0, 0.0, 0.0, 0.0, 0.0, 5.0, 0.0, 0.0, 0.0, 0.0, 0.0, 0.0, 0.0, 0.0, 3.0, 0.0, 3.0, 0.0, 0.0, 0.0, 0.0, 2.0, 3.0, 3.0, 0.0, 0.0, 3.0, 1.0, 0.0, 0.0, 4.0, 4.0, 5.0, 0.0, 4.0, 0.0, 0.0, 0.0, 0.0, 0.0, 0.0, 0.0, 0.0, 0.0, 0.0, 0.0, 0.0, 0.0, 0.0, 0.0, 0.0, 0.0, 0.0, 3.0, 0.0, 3.0, 3.0, 0.0, 0.0, 0.0, 0.0, 0.0, 0.0, 0.0, 0.0, 0.0, 0.0, 0.0, 0.0, 0.0, 0.0, 0.0, 0.0, 0.0, 0.0, 0.0, 0.0, 0.0, 0.0, 0.0, 0.0, 0.0, 0.0, 0.0, 0.0, 0.0, 4.0, 0.0, 0.0, 0.0, 0.0, 0.0, 0.0, 0.0, 0.0, 0.0, 0.0, 0.0, 0.0, 0.0, 0.0, 0.0, 0.0, 0.0, 0.0, 0.0, 0.0, 0.0, 0.0, 0.0, 0.0, 0.0, 0.0, 0.0, 0.0, 0.0, 0.0, 0.0, 0.0, 0.0, 0.0, 0.0, 0.0, 0.0, 0.0, 0.0, 0.0, 3.0, 0.0, 0.0, 0.0, 0.0, 0.0, 0.0, 0.0, 0.0, 0.0, 0.0, 0.0, 0.0, 2.0, 0.0, 3.0, 0.0, 0.0, 3.0, 0.0, 0.0, 0.0, 0.0, 0.0, 4.0, 0.0, 3.0, 2.0, 3.0, 0.0, 3.0, 0.0, 0.0, 3.0, 0.0, 3.0, 3.0, 0.0, 0.0, 0.0, 0.0, 0.0, 0.0, 0.0, 0.0, 0.0, 0.0, 4.0, 0.0, 3.0, 0.0, 0.0, 3.0, 0.0, 4.0, 0.0, 0.0, 0.0, 0.0, 0.0, 4.0, 3.0, 3.0, 0.0, 3.0, 0.0, 4.0, 0.0, 0.0, 3.0, 3.0, 3.0, 3.0, 0.0, 0.0, 0.0, 3.0, 0.0, 4.0, 0.0, 5.0, 0.0, 4.0, 0.0, 0.0, 0.0, 0.0, 0.0, 0.0, 0.0, 0.0, 5.0, 0.0, 3.0, 3.0, 0.0, 0.0, 0.0, 0.0, 3.0, 3.0, 2.0, 0.0, 0.0, 0.0, 0.0, 2.0, 0.0, 0.0, 0.0, 0.0, 3.0, 0.0, 0.0, 0.0, 0.0, 0.0, 0.0, 0.0, 0.0, 0.0, 3.0, 0.0, 0.0, 0.0, 0.0, 0.0, 0.0, 0.0, 0.0, 0.0, 0.0, 0.0, 0.0, 0.0, 0.0, 0.0, 0.0, 0.0, 0.0, 0.0, 0.0, 0.0, 0.0, 0.0, 0.0, 0.0, 2.0, 0.0, 0.0, 0.0, 0.0, 0.0, 0.0, 0.0, 0.0, 0.0, 0.0, 0.0, 0.0, 0.0, 0.0, 0.0, 0.0, 0.0, 0.0, 0.0, 0.0, 0.0, 0.0, 0.0, 0.0, 0.0, 0.0, 0.0, 0.0, 0.0, 0.0, 0.0, 0.0, 0.0, 0.0, 0.0, 2.0, 0.0, 0.0, 0.0, 0.0, 2.0, 0.0, 0.0, 2.0, 0.0, 0.0, 0.0, 0.0, 0.0, 0.0, 0.0, 0.0, 0.0, 0.0, 0.0, 0.0, 0.0, 0.0, 0.0, 0.0, 0.0, 0.0, 0.0, 0.0, 0.0, 0.0, 0.0, 0.0, 0.0, 0.0, 0.0, 0.0, 0.0, 0.0, 0.0, 0.0, 0.0, 0.0, 0.0, 0.0, 0.0, 0.0, 0.0, 0.0, 0.0, 3.0, 1.0, 0.0, 3.0, 0.0, 0.0, 0.0, 0.0, 0.0, 0.0, 0.0, 0.0, 0.0, 0.0, 0.0, 0.0, 2.0, 0.0, 0.0, 0.0, 3.0, 3.0, 0.0, 0.0, 0.0, 0.0, 0.0, 0.0, 0.0, 0.0, 0.0, 0.0, 0.0, 0.0, 0.0, 0.0, 0.0, 0.0, 0.0, 0.0, 0.0, 0.0, 0.0, 0.0, 0.0, 0.0, 0.0, 0.0, 0.0, 0.0, 0.0, 0.0, 0.0, 3.0, 0.0, 0.0, 0.0, 0.0, 0.0, 0.0, 4.0, 0.0, 0.0, 0.0, 0.0, 0.0, 0.0, 0.0, 0.0, 0.0, 0.0, 0.0, 0.0, 0.0, 0.0, 0.0, 0.0, 0.0, 0.0, 0.0, 0.0, 0.0, 0.0, 0.0, 0.0, 0.0, 0.0, 0.0, 0.0, 0.0, 0.0, 2.0, 0.0, 0.0, 0.0, 0.0, 0.0, 0.0, 0.0, 0.0, 0.0, 0.0, 0.0, 0.0, 0.0, 0.0, 0.0, 0.0, 0.0, 0.0, 0.0, 0.0, 0.0, 0.0, 0.0, 0.0, 0.0, 0.0, 0.0, 0.0, 0.0, 0.0, 0.0, 0.0, 0.0, 0.0, 0.0, 0.0, 0.0, 0.0, 0.0, 0.0, 0.0, 0.0, 0.0, 0.0, 3.0, 0.0, 0.0, 0.0, 0.0, 0.0, 2.0, 0.0, 0.0, 0.0, 0.0, 0.0, 0.0, 0.0, 0.0, 0.0, 0.0, 0.0, 0.0, 0.0, 0.0, 0.0, 0.0, 0.0, 0.0, 0.0, 0.0, 0.0, 0.0, 0.0, 0.0, 0.0, 0.0, 0.0, 0.0, 0.0, 0.0, 3.0, 0.0, 0.0, 0.0, 0.0, 0.0, 0.0, 0.0, 0.0, 0.0, 0.0, 0.0, 0.0, 0.0, 0.0, 0.0, 0.0, 0.0, 0.0, 0.0, 0.0, 0.0, 0.0, 0.0, 0.0, 0.0, 0.0, 0.0, 0.0, 0.0, 0.0, 0.0, 0.0, 0.0, 0.0, 0.0, 0.0, 0.0, 0.0, 0.0, 0.0, 0.0, 0.0, 0.0, 0.0, 0.0, 0.0, 0.0, 0.0, 0.0, 2.0, 0.0, 0.0, 0.0, 0.0, 3.0, 0.0, 3.0, 0.0, 0.0, 0.0, 0.0, 0.0, 0.0, 0.0, 0.0, 0.0, 0.0, 0.0, 0.0, 0.0, 0.0, 0.0, 0.0, 0.0, 0.0, 0.0, 0.0, 0.0, 0.0, 0.0, 0.0, 0.0, 0.0, 0.0, 0.0, 0.0, 0.0, 0.0, 0.0, 0.0, 0.0, 0.0, 0.0, 0.0, 0.0, 0.0, 0.0, 0.0, 0.0, 0.0, 0.0, 0.0, 0.0, 0.0, 0.0, 0.0, 0.0, 0.0, 0.0, 0.0, 0.0, 0.0, 0.0, 3.0, 0.0, 0.0, 0.0, 0.0, 0.0, 1.0, 0.0, 4.0, 4.0, 0.0, 0.0, 0.0, 0.0, 0.0, 0.0, 0.0, 0.0, 1.0, 0.0, 0.0, 0.0, 0.0, 0.0, 0.0, 0.0, 0.0, 0.0, 0.0, 0.0, 0.0, 0.0, 0.0, 0.0, 0.0, 0.0, 0.0, 0.0, 0.0, 0.0, 0.0, 0.0, 0.0, 0.0, 0.0, 0.0, 0.0, 0.0, 0.0, 0.0, 0.0, 0.0, 0.0, 0.0, 0.0, 0.0, 0.0, 0.0, 0.0, 0.0, 0.0, 0.0, 0.0, 0.0, 0.0, 0.0, 0.0, 0.0, 0.0, 0.0, 0.0, 0.0, 0.0, 2.0, 0.0, 0.0, 0.0, 0.0, 0.0, 0.0, 0.0, 0.0, 0.0, 0.0, 0.0, 0.0, 0.0, 0.0, 0.0, 2.0, 0.0, 0.0, 0.0, 0.0, 0.0, 0.0, 0.0, 0.0, 2.0, 2.0, 0.0, 0.0, 0.0, 3.0, 0.0, 0.0, 0.0, 0.0, 0.0, 0.0, 0.0, 0.0, 0.0, 0.0, 0.0, 0.0, 0.0, 0.0, 0.0, 0.0, 0.0, 0.0, 2.0, 0.0, 0.0, 0.0, 0.0, 0.0, 0.0, 2.0, 0.0, 0.0, 0.0, 0.0, 0.0, 0.0, 0.0, 0.0, 0.0, 0.0, 0.0, 0.0, 0.0, 0.0, 0.0, 0.0, 0.0, 0.0, 0.0, 0.0, 0.0, 0.0, 0.0, 0.0, 0.0, 0.0, 0.0, 0.0, 0.0, 0.0, 0.0, 0.0, 0.0, 0.0, 0.0, 0.0, 0.0, 0.0, 0.0, 0.0, 0.0, 0.0, 0.0, 0.0, 0.0, 0.0, 0.0, 0.0, 0.0, 0.0, 0.0, 0.0, 0.0, 0.0, 2.0, 0.0, 0.0, 0.0, 2.0, 0.0, 0.0, 0.0, 0.0, 0.0, 4.0, 0.0, 0.0, 0.0, 0.0, 0.0, 0.0, 0.0, 0.0, 0.0, 0.0, 0.0, 0.0, 0.0, 0.0, 0.0, 0.0, 0.0, 0.0, 0.0, 0.0, 0.0, 0.0, 0.0, 0.0, 0.0, 0.0, 0.0, 0.0, 0.0, 0.0, 0.0, 0.0, 0.0, 0.0, 0.0, 0.0, 0.0, 0.0, 0.0, 0.0, 0.0, 0.0, 3.0, 0.0, 0.0, 0.0, 0.0, 0.0, 0.0, 0.0, 0.0, 0.0, 0.0, 0.0, 0.0, 0.0, 0.0, 0.0, 0.0, 0.0, 0.0, 0.0, 0.0, 0.0, 0.0, 0.0, 0.0, 0.0, 0.0, 0.0, 0.0, 3.0, 2.0, 2.0, 3.0, 4.0, 1.0, 3.0, 3.0, 3.0, 0.0, 0.0, 0.0, 0.0, 0.0, 0.0, 0.0, 0.0, 0.0, 0.0, 0.0, 0.0, 0.0, 0.0, 0.0, 0.0, 0.0, 0.0, 0.0, 0.0, 0.0, 0.0, 0.0, 0.0, 0.0, 0.0, 0.0, 0.0, 0.0, 0.0, 0.0, 0.0, 0.0, 0.0, 0.0, 0.0, 0.0, 0.0, 0.0, 0.0, 0.0, 0.0, 0.0, 0.0, 0.0, 0.0, 0.0, 0.0, 0.0, 0.0, 0.0, 0.0, 0.0, 0.0, 0.0, 0.0, 0.0, 0.0, 0.0, 0.0, 0.0, 0.0, 0.0, 0.0, 0.0, 0.0, 0.0, 0.0, 0.0, 0.0, 0.0, 0.0, 0.0, 0.0, 0.0, 0.0, 0.0, 0.0, 0.0, 0.0, 0.0, 0.0, 0.0, 0.0, 0.0, 0.0, 0.0, 0.0, 0.0, 0.0, 0.0, 0.0, 0.0, 0.0, 0.0, 0.0, 0.0, 0.0, 0.0, 0.0, 0.0, 0.0, 0.0, 0.0, 0.0, 0.0, 0.0, 0.0, 0.0, 0.0, 0.0, 0.0, 0.0, 0.0, 0.0, 0.0, 0.0, 0.0, 0.0, 0.0, 0.0, 0.0, 0.0, 0.0, 0.0, 0.0, 0.0, 0.0, 0.0, 0.0, 0.0, 0.0, 0.0, 0.0, 0.0, 0.0, 0.0, 0.0, 0.0, 0.0, 0.0, 0.0, 0.0, 0.0, 0.0, 0.0, 0.0, 0.0, 0.0, 0.0, 0.0, 0.0, 0.0, 0.0, 0.0, 0.0, 0.0, 0.0, 0.0, 0.0, 0.0, 0.0, 0.0, 0.0, 0.0, 0.0, 0.0, 0.0, 0.0, 0.0, 0.0, 0.0, 0.0, 0.0, 0.0, 0.0, 0.0, 0.0, 0.0, 0.0, 0.0, 0.0, 0.0, 0.0, 0.0, 0.0, 0.0, 0.0, 0.0, 0.0, 0.0, 0.0, 0.0, 0.0, 0.0, 0.0, 0.0, 0.0, 0.0, 0.0, 0.0, 0.0, 0.0, 0.0, 0.0, 0.0, 0.0, 0.0, 0.0, 0.0, 0.0, 0.0, 0.0, 0.0, 0.0, 0.0, 0.0, 0.0, 0.0, 0.0, 0.0, 0.0, 0.0, 0.0, 0.0, 0.0, 0.0, 0.0, 0.0, 0.0, 0.0, 0.0, 0.0, 0.0, 0.0, 0.0, 0.0, 0.0, 0.0, 0.0, 0.0, 0.0, 0.0, 0.0, 0.0, 0.0, 0.0, 0.0, 0.0, 0.0, 0.0, 0.0, 0.0, 0.0, 0.0, 0.0, 0.0, 0.0, 0.0, 0.0, 0.0, 0.0, 0.0, 0.0, 0.0, 0.0, 0.0, 0.0, 0.0, 0.0, 0.0, 0.0, 0.0, 0.0, 0.0, 0.0, 0.0, 0.0, 0.0, 0.0, 0.0, 0.0, 0.0, 0.0, 0.0, 0.0, 0.0, 0.0, 0.0, 0.0, 0.0, 0.0, 0.0, 0.0, 0.0, 0.0, 0.0, 0.0, 0.0, 0.0, 0.0, 0.0, 0.0, 0.0, 0.0, 0.0, 0.0, 0.0, 0.0, 0.0, 0.0, 0.0, 0.0, 0.0, 0.0, 0.0, 0.0, 0.0, 0.0, 0.0, 0.0, 0.0, 0.0, 0.0, 0.0, 0.0, 0.0, 0.0, 0.0, 0.0, 0.0, 0.0, 0.0, 0.0, 0.0, 0.0, 0.0, 0.0, 0.0, 0.0, 0.0, 0.0, 0.0, 0.0, 0.0, 0.0, 0.0, 0.0, 0.0, 0.0, 0.0, 0.0, 0.0, 0.0, 0.0, 0.0, 0.0, 0.0, 0.0, 0.0, 0.0, 0.0, 0.0, 0.0, 0.0, 0.0, 0.0, 0.0, 0.0, 0.0, 0.0, 0.0, 0.0, 0.0, 0.0, 0.0, 0.0, 0.0, 0.0, 0.0, 0.0, 0.0, 0.0, 0.0, 0.0, 0.0, 0.0, 0.0, 0.0, 0.0, 0.0, 0.0, 0.0, 0.0, 0.0, 0.0, 0.0, 0.0, 0.0, 0.0, 0.0, 0.0, 0.0, 0.0, 0.0, 0.0, 0.0, 0.0, 0.0, 0.0, 0.0, 0.0, 0.0, 0.0, 0.0, 0.0, 0.0, 0.0, 0.0, 0.0, 0.0, 0.0, 0.0, 0.0, 0.0, 0.0, 0.0, 0.0, 0.0, 0.0, 0.0, 0.0, 0.0, 0.0, 0.0, 0.0, 0.0, 0.0, 0.0, 0.0, 0.0, 0.0, 0.0, 0.0, 0.0, 0.0, 0.0, 0.0, 0.0, 0.0, 0.0, 0.0, 0.0, 0.0, 0.0, 0.0, 0.0, 0.0, 0.0, 0.0, 0.0, 0.0, 0.0, 0.0, 0.0, 0.0, 0.0, 0.0, 0.0, 0.0, 0.0, 0.0, 0.0, 0.0, 0.0, 0.0, 0.0, 0.0, 0.0, 0.0, 0.0, 0.0, 0.0, 0.0, 0.0, 0.0, 0.0, 0.0, 0.0, 0.0, 0.0, 0.0, 0.0, 0.0, 0.0, 0.0, 0.0, 0.0, 0.0, 0.0, 0.0, 0.0, 0.0, 0.0, 0.0, 0.0, 0.0, 0.0, 0.0, 0.0, 0.0, 0.0, 0.0, 0.0, 0.0, 0.0, 0.0, 0.0, 0.0, 0.0, 0.0, 0.0, 0.0, 0.0, 0.0, 0.0, 0.0, 0.0, 0.0, 0.0, 0.0, 0.0, 0.0, 0.0, 0.0, 0.0, 0.0, 0.0, 0.0, 0.0, 0.0, 0.0, 0.0, 0.0, 0.0, 0.0, 0.0, 0.0, 0.0, 0.0, 0.0, 0.0, 0.0, 0.0, 0.0, 0.0, 0.0, 0.0, 0.0, 0.0, 0.0, 0.0, 0.0, 0.0, 0.0, 0.0, 0.0, 0.0, 0.0, 0.0, 0.0, 0.0, 0.0, 0.0, 0.0, 0.0, 0.0, 0.0, 0.0, 0.0, 0.0, 0.0, 0.0, 0.0, 0.0, 0.0, 0.0, 0.0, 0.0, 0.0, 0.0, 0.0, 0.0, 0.0, 0.0, 0.0, 0.0, 0.0, 0.0, 0.0, 0.0, 0.0, 0.0, 0.0, 0.0, 0.0, 0.0, 0.0, 0.0, 0.0, 0.0, 0.0, 0.0, 0.0, 0.0, 0.0, 0.0, 0.0, 0.0, 0.0, 0.0, 0.0, 0.0, 0.0, 0.0, 0.0, 0.0, 0.0, 0.0, 0.0, 0.0, 0.0, 0.0, 0.0, 0.0, 0.0, 0.0, 0.0, 0.0, 0.0, 0.0, 0.0, 0.0, 0.0, 0.0, 0.0, 0.0, 0.0, 0.0, 0.0, 0.0, 0.0, 0.0, 0.0, 0.0, 0.0, 0.0, 0.0, 0.0, 0.0, 0.0, 0.0, 0.0, 0.0, 0.0, 0.0])\n"
          ]
        }
      ],
      "source": [
        "movies = df1.rdd.map(lambda x: x[1]).collect()\n",
        "ratings = df1.rdd.map(lambda x: x[2]).collect()\n",
        "users = df1.rdd.map(lambda x: x[0]).collect()\n",
        "user_counter = 0\n",
        "final_list = []\n",
        "for movie_list in movies:\n",
        "  #get the movies and assign their ratings\n",
        "  #print(len(movie_list))\n",
        "  tmpVector = [0.0] * 1682\n",
        "  #print(tmpVector)\n",
        "  #print(movie_list[0])\n",
        "  #print(ratings[0])\n",
        "  for j in range(len(movie_list)):\n",
        "    tmpVector[movie_list[j] - 1] = ratings[user_counter][j] #0 based but movie index 1 based\n",
        "  #print(tmpVector)\n",
        "  final_list.append((users[user_counter], tmpVector))\n",
        "  user_counter += 1\n",
        "  #break\n",
        "#print(tmpVector[257]) #works!\n",
        "###we have each time a tmp sparse vector with our rating, the sparse vector is what we ll use for each user\n",
        "print(final_list[0])"
      ]
    },
    {
      "cell_type": "code",
      "execution_count": null,
      "metadata": {
        "colab": {
          "base_uri": "https://localhost:8080/"
        },
        "id": "hul-CAE9_1YL",
        "outputId": "11985da4-e6cc-4c5d-aab2-8eee0daad562"
      },
      "outputs": [
        {
          "output_type": "stream",
          "name": "stdout",
          "text": [
            "+------+--------------------+\n",
            "|userId|       movies_rating|\n",
            "+------+--------------------+\n",
            "|    26|[3.0, 0.0, 0.0, 0...|\n",
            "|    29|[0.0, 0.0, 0.0, 0...|\n",
            "|   474|[0.0, 0.0, 0.0, 5...|\n",
            "|    65|[3.0, 0.0, 0.0, 0...|\n",
            "|   191|[0.0, 0.0, 0.0, 0...|\n",
            "|   418|[0.0, 0.0, 0.0, 0...|\n",
            "|   541|[4.0, 0.0, 0.0, 0...|\n",
            "|   558|[0.0, 0.0, 0.0, 0...|\n",
            "|   222|[4.0, 3.0, 0.0, 3...|\n",
            "|   270|[0.0, 0.0, 0.0, 0...|\n",
            "|   293|[2.0, 3.0, 2.0, 4...|\n",
            "|   730|[4.0, 0.0, 0.0, 0...|\n",
            "|   938|[4.0, 0.0, 0.0, 0...|\n",
            "|   243|[4.0, 0.0, 0.0, 0...|\n",
            "|   278|[0.0, 0.0, 0.0, 0...|\n",
            "|   367|[0.0, 0.0, 0.0, 0...|\n",
            "|   442|[0.0, 3.0, 0.0, 0...|\n",
            "|   705|[5.0, 3.0, 0.0, 0...|\n",
            "|   720|[0.0, 0.0, 0.0, 0...|\n",
            "|    19|[0.0, 0.0, 0.0, 4...|\n",
            "+------+--------------------+\n",
            "only showing top 20 rows\n",
            "\n"
          ]
        }
      ],
      "source": [
        "final_df =spark.createDataFrame(data = final_list, schema = [\"userId\", \"movies_rating\"])\n",
        "final_df.show()"
      ]
    },
    {
      "cell_type": "code",
      "execution_count": null,
      "metadata": {
        "colab": {
          "base_uri": "https://localhost:8080/"
        },
        "id": "1kFR3QHyAPlO",
        "outputId": "8581769c-ff70-4f7f-d8b7-1933eb7d02dc"
      },
      "outputs": [
        {
          "output_type": "execute_result",
          "data": {
            "text/plain": [
              "Row(userId=26, movies_rating=[3.0, 0.0, 0.0, 0.0, 0.0, 0.0, 3.0, 0.0, 4.0, 0.0, 0.0, 0.0, 3.0, 3.0, 4.0, 0.0, 0.0, 0.0, 0.0, 0.0, 0.0, 0.0, 0.0, 3.0, 3.0, 0.0, 0.0, 0.0, 0.0, 0.0, 0.0, 0.0, 0.0, 0.0, 0.0, 0.0, 0.0, 0.0, 0.0, 0.0, 0.0, 0.0, 0.0, 0.0, 0.0, 0.0, 0.0, 0.0, 0.0, 4.0, 0.0, 0.0, 0.0, 0.0, 0.0, 0.0, 0.0, 0.0, 0.0, 0.0, 0.0, 0.0, 0.0, 0.0, 0.0, 0.0, 0.0, 0.0, 0.0, 0.0, 0.0, 0.0, 0.0, 0.0, 0.0, 0.0, 0.0, 0.0, 0.0, 0.0, 0.0, 0.0, 0.0, 0.0, 0.0, 0.0, 0.0, 0.0, 0.0, 0.0, 0.0, 0.0, 0.0, 0.0, 0.0, 0.0, 0.0, 0.0, 0.0, 5.0, 0.0, 0.0, 0.0, 0.0, 0.0, 0.0, 0.0, 0.0, 3.0, 0.0, 3.0, 0.0, 0.0, 0.0, 0.0, 2.0, 3.0, 3.0, 0.0, 0.0, 3.0, 1.0, 0.0, 0.0, 4.0, 4.0, 5.0, 0.0, 4.0, 0.0, 0.0, 0.0, 0.0, 0.0, 0.0, 0.0, 0.0, 0.0, 0.0, 0.0, 0.0, 0.0, 0.0, 0.0, 0.0, 0.0, 0.0, 3.0, 0.0, 3.0, 3.0, 0.0, 0.0, 0.0, 0.0, 0.0, 0.0, 0.0, 0.0, 0.0, 0.0, 0.0, 0.0, 0.0, 0.0, 0.0, 0.0, 0.0, 0.0, 0.0, 0.0, 0.0, 0.0, 0.0, 0.0, 0.0, 0.0, 0.0, 0.0, 0.0, 4.0, 0.0, 0.0, 0.0, 0.0, 0.0, 0.0, 0.0, 0.0, 0.0, 0.0, 0.0, 0.0, 0.0, 0.0, 0.0, 0.0, 0.0, 0.0, 0.0, 0.0, 0.0, 0.0, 0.0, 0.0, 0.0, 0.0, 0.0, 0.0, 0.0, 0.0, 0.0, 0.0, 0.0, 0.0, 0.0, 0.0, 0.0, 0.0, 0.0, 0.0, 3.0, 0.0, 0.0, 0.0, 0.0, 0.0, 0.0, 0.0, 0.0, 0.0, 0.0, 0.0, 0.0, 2.0, 0.0, 3.0, 0.0, 0.0, 3.0, 0.0, 0.0, 0.0, 0.0, 0.0, 4.0, 0.0, 3.0, 2.0, 3.0, 0.0, 3.0, 0.0, 0.0, 3.0, 0.0, 3.0, 3.0, 0.0, 0.0, 0.0, 0.0, 0.0, 0.0, 0.0, 0.0, 0.0, 0.0, 4.0, 0.0, 3.0, 0.0, 0.0, 3.0, 0.0, 4.0, 0.0, 0.0, 0.0, 0.0, 0.0, 4.0, 3.0, 3.0, 0.0, 3.0, 0.0, 4.0, 0.0, 0.0, 3.0, 3.0, 3.0, 3.0, 0.0, 0.0, 0.0, 3.0, 0.0, 4.0, 0.0, 5.0, 0.0, 4.0, 0.0, 0.0, 0.0, 0.0, 0.0, 0.0, 0.0, 0.0, 5.0, 0.0, 3.0, 3.0, 0.0, 0.0, 0.0, 0.0, 3.0, 3.0, 2.0, 0.0, 0.0, 0.0, 0.0, 2.0, 0.0, 0.0, 0.0, 0.0, 3.0, 0.0, 0.0, 0.0, 0.0, 0.0, 0.0, 0.0, 0.0, 0.0, 3.0, 0.0, 0.0, 0.0, 0.0, 0.0, 0.0, 0.0, 0.0, 0.0, 0.0, 0.0, 0.0, 0.0, 0.0, 0.0, 0.0, 0.0, 0.0, 0.0, 0.0, 0.0, 0.0, 0.0, 0.0, 0.0, 2.0, 0.0, 0.0, 0.0, 0.0, 0.0, 0.0, 0.0, 0.0, 0.0, 0.0, 0.0, 0.0, 0.0, 0.0, 0.0, 0.0, 0.0, 0.0, 0.0, 0.0, 0.0, 0.0, 0.0, 0.0, 0.0, 0.0, 0.0, 0.0, 0.0, 0.0, 0.0, 0.0, 0.0, 0.0, 0.0, 2.0, 0.0, 0.0, 0.0, 0.0, 2.0, 0.0, 0.0, 2.0, 0.0, 0.0, 0.0, 0.0, 0.0, 0.0, 0.0, 0.0, 0.0, 0.0, 0.0, 0.0, 0.0, 0.0, 0.0, 0.0, 0.0, 0.0, 0.0, 0.0, 0.0, 0.0, 0.0, 0.0, 0.0, 0.0, 0.0, 0.0, 0.0, 0.0, 0.0, 0.0, 0.0, 0.0, 0.0, 0.0, 0.0, 0.0, 0.0, 0.0, 0.0, 3.0, 1.0, 0.0, 3.0, 0.0, 0.0, 0.0, 0.0, 0.0, 0.0, 0.0, 0.0, 0.0, 0.0, 0.0, 0.0, 2.0, 0.0, 0.0, 0.0, 3.0, 3.0, 0.0, 0.0, 0.0, 0.0, 0.0, 0.0, 0.0, 0.0, 0.0, 0.0, 0.0, 0.0, 0.0, 0.0, 0.0, 0.0, 0.0, 0.0, 0.0, 0.0, 0.0, 0.0, 0.0, 0.0, 0.0, 0.0, 0.0, 0.0, 0.0, 0.0, 0.0, 3.0, 0.0, 0.0, 0.0, 0.0, 0.0, 0.0, 4.0, 0.0, 0.0, 0.0, 0.0, 0.0, 0.0, 0.0, 0.0, 0.0, 0.0, 0.0, 0.0, 0.0, 0.0, 0.0, 0.0, 0.0, 0.0, 0.0, 0.0, 0.0, 0.0, 0.0, 0.0, 0.0, 0.0, 0.0, 0.0, 0.0, 0.0, 2.0, 0.0, 0.0, 0.0, 0.0, 0.0, 0.0, 0.0, 0.0, 0.0, 0.0, 0.0, 0.0, 0.0, 0.0, 0.0, 0.0, 0.0, 0.0, 0.0, 0.0, 0.0, 0.0, 0.0, 0.0, 0.0, 0.0, 0.0, 0.0, 0.0, 0.0, 0.0, 0.0, 0.0, 0.0, 0.0, 0.0, 0.0, 0.0, 0.0, 0.0, 0.0, 0.0, 0.0, 0.0, 3.0, 0.0, 0.0, 0.0, 0.0, 0.0, 2.0, 0.0, 0.0, 0.0, 0.0, 0.0, 0.0, 0.0, 0.0, 0.0, 0.0, 0.0, 0.0, 0.0, 0.0, 0.0, 0.0, 0.0, 0.0, 0.0, 0.0, 0.0, 0.0, 0.0, 0.0, 0.0, 0.0, 0.0, 0.0, 0.0, 0.0, 3.0, 0.0, 0.0, 0.0, 0.0, 0.0, 0.0, 0.0, 0.0, 0.0, 0.0, 0.0, 0.0, 0.0, 0.0, 0.0, 0.0, 0.0, 0.0, 0.0, 0.0, 0.0, 0.0, 0.0, 0.0, 0.0, 0.0, 0.0, 0.0, 0.0, 0.0, 0.0, 0.0, 0.0, 0.0, 0.0, 0.0, 0.0, 0.0, 0.0, 0.0, 0.0, 0.0, 0.0, 0.0, 0.0, 0.0, 0.0, 0.0, 0.0, 2.0, 0.0, 0.0, 0.0, 0.0, 3.0, 0.0, 3.0, 0.0, 0.0, 0.0, 0.0, 0.0, 0.0, 0.0, 0.0, 0.0, 0.0, 0.0, 0.0, 0.0, 0.0, 0.0, 0.0, 0.0, 0.0, 0.0, 0.0, 0.0, 0.0, 0.0, 0.0, 0.0, 0.0, 0.0, 0.0, 0.0, 0.0, 0.0, 0.0, 0.0, 0.0, 0.0, 0.0, 0.0, 0.0, 0.0, 0.0, 0.0, 0.0, 0.0, 0.0, 0.0, 0.0, 0.0, 0.0, 0.0, 0.0, 0.0, 0.0, 0.0, 0.0, 0.0, 0.0, 3.0, 0.0, 0.0, 0.0, 0.0, 0.0, 1.0, 0.0, 4.0, 4.0, 0.0, 0.0, 0.0, 0.0, 0.0, 0.0, 0.0, 0.0, 1.0, 0.0, 0.0, 0.0, 0.0, 0.0, 0.0, 0.0, 0.0, 0.0, 0.0, 0.0, 0.0, 0.0, 0.0, 0.0, 0.0, 0.0, 0.0, 0.0, 0.0, 0.0, 0.0, 0.0, 0.0, 0.0, 0.0, 0.0, 0.0, 0.0, 0.0, 0.0, 0.0, 0.0, 0.0, 0.0, 0.0, 0.0, 0.0, 0.0, 0.0, 0.0, 0.0, 0.0, 0.0, 0.0, 0.0, 0.0, 0.0, 0.0, 0.0, 0.0, 0.0, 0.0, 0.0, 2.0, 0.0, 0.0, 0.0, 0.0, 0.0, 0.0, 0.0, 0.0, 0.0, 0.0, 0.0, 0.0, 0.0, 0.0, 0.0, 2.0, 0.0, 0.0, 0.0, 0.0, 0.0, 0.0, 0.0, 0.0, 2.0, 2.0, 0.0, 0.0, 0.0, 3.0, 0.0, 0.0, 0.0, 0.0, 0.0, 0.0, 0.0, 0.0, 0.0, 0.0, 0.0, 0.0, 0.0, 0.0, 0.0, 0.0, 0.0, 0.0, 2.0, 0.0, 0.0, 0.0, 0.0, 0.0, 0.0, 2.0, 0.0, 0.0, 0.0, 0.0, 0.0, 0.0, 0.0, 0.0, 0.0, 0.0, 0.0, 0.0, 0.0, 0.0, 0.0, 0.0, 0.0, 0.0, 0.0, 0.0, 0.0, 0.0, 0.0, 0.0, 0.0, 0.0, 0.0, 0.0, 0.0, 0.0, 0.0, 0.0, 0.0, 0.0, 0.0, 0.0, 0.0, 0.0, 0.0, 0.0, 0.0, 0.0, 0.0, 0.0, 0.0, 0.0, 0.0, 0.0, 0.0, 0.0, 0.0, 0.0, 0.0, 0.0, 2.0, 0.0, 0.0, 0.0, 2.0, 0.0, 0.0, 0.0, 0.0, 0.0, 4.0, 0.0, 0.0, 0.0, 0.0, 0.0, 0.0, 0.0, 0.0, 0.0, 0.0, 0.0, 0.0, 0.0, 0.0, 0.0, 0.0, 0.0, 0.0, 0.0, 0.0, 0.0, 0.0, 0.0, 0.0, 0.0, 0.0, 0.0, 0.0, 0.0, 0.0, 0.0, 0.0, 0.0, 0.0, 0.0, 0.0, 0.0, 0.0, 0.0, 0.0, 0.0, 0.0, 3.0, 0.0, 0.0, 0.0, 0.0, 0.0, 0.0, 0.0, 0.0, 0.0, 0.0, 0.0, 0.0, 0.0, 0.0, 0.0, 0.0, 0.0, 0.0, 0.0, 0.0, 0.0, 0.0, 0.0, 0.0, 0.0, 0.0, 0.0, 0.0, 3.0, 2.0, 2.0, 3.0, 4.0, 1.0, 3.0, 3.0, 3.0, 0.0, 0.0, 0.0, 0.0, 0.0, 0.0, 0.0, 0.0, 0.0, 0.0, 0.0, 0.0, 0.0, 0.0, 0.0, 0.0, 0.0, 0.0, 0.0, 0.0, 0.0, 0.0, 0.0, 0.0, 0.0, 0.0, 0.0, 0.0, 0.0, 0.0, 0.0, 0.0, 0.0, 0.0, 0.0, 0.0, 0.0, 0.0, 0.0, 0.0, 0.0, 0.0, 0.0, 0.0, 0.0, 0.0, 0.0, 0.0, 0.0, 0.0, 0.0, 0.0, 0.0, 0.0, 0.0, 0.0, 0.0, 0.0, 0.0, 0.0, 0.0, 0.0, 0.0, 0.0, 0.0, 0.0, 0.0, 0.0, 0.0, 0.0, 0.0, 0.0, 0.0, 0.0, 0.0, 0.0, 0.0, 0.0, 0.0, 0.0, 0.0, 0.0, 0.0, 0.0, 0.0, 0.0, 0.0, 0.0, 0.0, 0.0, 0.0, 0.0, 0.0, 0.0, 0.0, 0.0, 0.0, 0.0, 0.0, 0.0, 0.0, 0.0, 0.0, 0.0, 0.0, 0.0, 0.0, 0.0, 0.0, 0.0, 0.0, 0.0, 0.0, 0.0, 0.0, 0.0, 0.0, 0.0, 0.0, 0.0, 0.0, 0.0, 0.0, 0.0, 0.0, 0.0, 0.0, 0.0, 0.0, 0.0, 0.0, 0.0, 0.0, 0.0, 0.0, 0.0, 0.0, 0.0, 0.0, 0.0, 0.0, 0.0, 0.0, 0.0, 0.0, 0.0, 0.0, 0.0, 0.0, 0.0, 0.0, 0.0, 0.0, 0.0, 0.0, 0.0, 0.0, 0.0, 0.0, 0.0, 0.0, 0.0, 0.0, 0.0, 0.0, 0.0, 0.0, 0.0, 0.0, 0.0, 0.0, 0.0, 0.0, 0.0, 0.0, 0.0, 0.0, 0.0, 0.0, 0.0, 0.0, 0.0, 0.0, 0.0, 0.0, 0.0, 0.0, 0.0, 0.0, 0.0, 0.0, 0.0, 0.0, 0.0, 0.0, 0.0, 0.0, 0.0, 0.0, 0.0, 0.0, 0.0, 0.0, 0.0, 0.0, 0.0, 0.0, 0.0, 0.0, 0.0, 0.0, 0.0, 0.0, 0.0, 0.0, 0.0, 0.0, 0.0, 0.0, 0.0, 0.0, 0.0, 0.0, 0.0, 0.0, 0.0, 0.0, 0.0, 0.0, 0.0, 0.0, 0.0, 0.0, 0.0, 0.0, 0.0, 0.0, 0.0, 0.0, 0.0, 0.0, 0.0, 0.0, 0.0, 0.0, 0.0, 0.0, 0.0, 0.0, 0.0, 0.0, 0.0, 0.0, 0.0, 0.0, 0.0, 0.0, 0.0, 0.0, 0.0, 0.0, 0.0, 0.0, 0.0, 0.0, 0.0, 0.0, 0.0, 0.0, 0.0, 0.0, 0.0, 0.0, 0.0, 0.0, 0.0, 0.0, 0.0, 0.0, 0.0, 0.0, 0.0, 0.0, 0.0, 0.0, 0.0, 0.0, 0.0, 0.0, 0.0, 0.0, 0.0, 0.0, 0.0, 0.0, 0.0, 0.0, 0.0, 0.0, 0.0, 0.0, 0.0, 0.0, 0.0, 0.0, 0.0, 0.0, 0.0, 0.0, 0.0, 0.0, 0.0, 0.0, 0.0, 0.0, 0.0, 0.0, 0.0, 0.0, 0.0, 0.0, 0.0, 0.0, 0.0, 0.0, 0.0, 0.0, 0.0, 0.0, 0.0, 0.0, 0.0, 0.0, 0.0, 0.0, 0.0, 0.0, 0.0, 0.0, 0.0, 0.0, 0.0, 0.0, 0.0, 0.0, 0.0, 0.0, 0.0, 0.0, 0.0, 0.0, 0.0, 0.0, 0.0, 0.0, 0.0, 0.0, 0.0, 0.0, 0.0, 0.0, 0.0, 0.0, 0.0, 0.0, 0.0, 0.0, 0.0, 0.0, 0.0, 0.0, 0.0, 0.0, 0.0, 0.0, 0.0, 0.0, 0.0, 0.0, 0.0, 0.0, 0.0, 0.0, 0.0, 0.0, 0.0, 0.0, 0.0, 0.0, 0.0, 0.0, 0.0, 0.0, 0.0, 0.0, 0.0, 0.0, 0.0, 0.0, 0.0, 0.0, 0.0, 0.0, 0.0, 0.0, 0.0, 0.0, 0.0, 0.0, 0.0, 0.0, 0.0, 0.0, 0.0, 0.0, 0.0, 0.0, 0.0, 0.0, 0.0, 0.0, 0.0, 0.0, 0.0, 0.0, 0.0, 0.0, 0.0, 0.0, 0.0, 0.0, 0.0, 0.0, 0.0, 0.0, 0.0, 0.0, 0.0, 0.0, 0.0, 0.0, 0.0, 0.0, 0.0, 0.0, 0.0, 0.0, 0.0, 0.0, 0.0, 0.0, 0.0, 0.0, 0.0, 0.0, 0.0, 0.0, 0.0, 0.0, 0.0, 0.0, 0.0, 0.0, 0.0, 0.0, 0.0, 0.0, 0.0, 0.0, 0.0, 0.0, 0.0, 0.0, 0.0, 0.0, 0.0, 0.0, 0.0, 0.0, 0.0, 0.0, 0.0, 0.0, 0.0, 0.0, 0.0, 0.0, 0.0, 0.0, 0.0, 0.0, 0.0, 0.0, 0.0, 0.0, 0.0, 0.0, 0.0, 0.0, 0.0, 0.0, 0.0, 0.0, 0.0, 0.0, 0.0, 0.0, 0.0, 0.0, 0.0, 0.0, 0.0, 0.0, 0.0, 0.0, 0.0, 0.0, 0.0, 0.0, 0.0, 0.0, 0.0, 0.0, 0.0, 0.0, 0.0, 0.0, 0.0, 0.0, 0.0, 0.0, 0.0, 0.0, 0.0, 0.0, 0.0, 0.0, 0.0, 0.0, 0.0, 0.0, 0.0, 0.0, 0.0, 0.0, 0.0, 0.0, 0.0, 0.0, 0.0, 0.0, 0.0, 0.0, 0.0, 0.0, 0.0, 0.0, 0.0, 0.0, 0.0, 0.0, 0.0, 0.0, 0.0, 0.0, 0.0, 0.0, 0.0, 0.0, 0.0, 0.0, 0.0, 0.0, 0.0, 0.0, 0.0, 0.0, 0.0, 0.0, 0.0, 0.0, 0.0, 0.0, 0.0, 0.0, 0.0, 0.0, 0.0, 0.0, 0.0, 0.0, 0.0, 0.0, 0.0, 0.0, 0.0, 0.0, 0.0, 0.0, 0.0, 0.0, 0.0, 0.0, 0.0, 0.0, 0.0, 0.0, 0.0, 0.0, 0.0, 0.0, 0.0, 0.0, 0.0, 0.0, 0.0, 0.0, 0.0, 0.0, 0.0, 0.0, 0.0, 0.0, 0.0, 0.0, 0.0, 0.0, 0.0, 0.0, 0.0, 0.0, 0.0, 0.0, 0.0, 0.0, 0.0, 0.0, 0.0, 0.0, 0.0, 0.0, 0.0, 0.0, 0.0, 0.0, 0.0, 0.0, 0.0, 0.0, 0.0, 0.0, 0.0, 0.0, 0.0, 0.0, 0.0, 0.0, 0.0, 0.0, 0.0, 0.0, 0.0, 0.0, 0.0, 0.0, 0.0])"
            ]
          },
          "metadata": {},
          "execution_count": 24
        }
      ],
      "source": [
        "final_rdd = final_df.rdd\n",
        "final_rdd.first()"
      ]
    },
    {
      "cell_type": "code",
      "execution_count": null,
      "metadata": {
        "colab": {
          "base_uri": "https://localhost:8080/"
        },
        "id": "dgG9V9cZAmON",
        "outputId": "5a36b2b2-707d-45b4-e492-0cc931a26ddd"
      },
      "outputs": [
        {
          "output_type": "stream",
          "name": "stdout",
          "text": [
            "0.13273664859903903\n",
            "0.304158782650116\n",
            "0.18001636239669339\n",
            "1.0\n"
          ]
        }
      ],
      "source": [
        "def cosin_sim(v1, v2):\n",
        "  v1 = np.array(v1)\n",
        "  v2 = np.array(v2)\n",
        "  return np.dot(v1, v2) / (np.linalg.norm(v1) * np.linalg.norm(v2))\n",
        "vectors = final_rdd.take(4)\n",
        "vv1 = vectors[0][1]\n",
        "vv2 = vectors[1][1]\n",
        "vv3 = vectors[2][1]\n",
        "vv4 = vectors[3][1]\n",
        "print(cosin_sim(vv1, vv2))\n",
        "print(cosin_sim(vv1, vv3))\n",
        "print(cosin_sim(vv1, vv4))\n",
        "print(cosin_sim(vv1, vv1))\n",
        "#all that's left is apply cosin to some values of the rdd and get the closest value for that user in the initial matrix\n",
        "\n",
        "#we're just testing so we re gonna just go through every user , find the highest cosin similiarity and fill in missing values of ratings available\n",
        "#from the other one if any\n"
      ]
    },
    {
      "cell_type": "code",
      "execution_count": null,
      "metadata": {
        "id": "9OVCw7rKFX5-"
      },
      "outputs": [],
      "source": [
        "#find max cosin sim from lookup, get that array and merge the null values for that user with the non null values of the second user\n",
        "rows = final_rdd.map(lambda x: (x[0], np.array(x[1]))).collect()\n",
        "for i in range(len(rows)):\n",
        "  max = 0\n",
        "  maxId = i\n",
        "  for j in range(len(rows)):\n",
        "    if i != j:\n",
        "      tmp = cosin_sim(rows[i][1], rows[j][1])\n",
        "      #print(tmp)\n",
        "      if (tmp > max):\n",
        "        max = tmp\n",
        "        maxId = j\n",
        "  #here we finished the first row, get the new row val and move to the next one\n",
        "  #t=0\n",
        "  update_vals = np.nonzero(rows[maxId][1])\n",
        "  for val in update_vals:\n",
        "    for idx in val:\n",
        "      if rows[i][1][idx] == 0:\n",
        "        rows[i][1][idx] = rows[maxId][1][idx]\n",
        "        #t+=1\n",
        "  #print(t)\n",
        "#we got our final initial rows restore it as movieId userId rating dataFrame now"
      ]
    },
    {
      "cell_type": "code",
      "execution_count": null,
      "metadata": {
        "colab": {
          "base_uri": "https://localhost:8080/"
        },
        "id": "pCNuWhHbZPUw",
        "outputId": "eae595bf-9521-47bd-aaa9-b6a7b9977dbc"
      },
      "outputs": [
        {
          "output_type": "stream",
          "name": "stdout",
          "text": [
            "+------+-------+------+\n",
            "|userId|movieId|rating|\n",
            "+------+-------+------+\n",
            "|    26|      1|     3|\n",
            "|    26|      3|     3|\n",
            "|    26|      7|     3|\n",
            "|    26|      9|     4|\n",
            "|    26|     13|     3|\n",
            "|    26|     14|     3|\n",
            "|    26|     15|     4|\n",
            "|    26|     24|     3|\n",
            "|    26|     25|     3|\n",
            "|    26|     50|     4|\n",
            "|    26|     93|     2|\n",
            "|    26|    100|     5|\n",
            "|    26|    108|     3|\n",
            "|    26|    109|     3|\n",
            "|    26|    111|     3|\n",
            "|    26|    116|     2|\n",
            "|    26|    117|     3|\n",
            "|    26|    118|     3|\n",
            "|    26|    121|     3|\n",
            "|    26|    122|     1|\n",
            "+------+-------+------+\n",
            "only showing top 20 rows\n",
            "\n"
          ]
        }
      ],
      "source": [
        "arr = []\n",
        "for row in rows:\n",
        "  for movie in range(len(row[1])):\n",
        "    #print(movie)\n",
        "    #(userId, movieId, rating[movieId])\n",
        "    if (row[1][movie] != 0):\n",
        "      arr.append((row[0], movie + 1, int(row[1][movie])))\n",
        "final_prediction_df = spark.createDataFrame(data = arr, schema = [\"userId\", \"movieId\", \"rating\"])\n",
        "final_prediction_df.show()\n",
        ""
      ]
    },
    {
      "cell_type": "markdown",
      "source": [
        "# ALS Model with initial filled DF"
      ],
      "metadata": {
        "id": "-on1PybFfRG1"
      }
    },
    {
      "cell_type": "code",
      "execution_count": null,
      "metadata": {
        "colab": {
          "base_uri": "https://localhost:8080/"
        },
        "id": "8uyUT7F-bCgb",
        "outputId": "0001801c-0de2-44e0-84f0-c53f1d8285be"
      },
      "outputs": [
        {
          "output_type": "stream",
          "name": "stdout",
          "text": [
            "start training\n"
          ]
        }
      ],
      "source": [
        "(training, test) = final_prediction_df.randomSplit([0.8, 0.2])\n",
        "als = ALS(userCol=\"userId\", itemCol=\"movieId\", ratingCol=\"rating\", rank = 51, coldStartStrategy=\"drop\", nonnegative= True)\n",
        "param_grid=ParamGridBuilder().addGrid(als.maxIter,[10, 20]).addGrid(als.regParam,[.1,.01, .001]).build()\n",
        "evaluator = RegressionEvaluator(metricName=\"rmse\", labelCol=\"rating\", predictionCol=\"prediction\")\n",
        "tvs= TrainValidationSplit(estimator=als, estimatorParamMaps=param_grid,evaluator=evaluator)\n",
        "print (\"start training\")\n",
        "model = tvs.fit(training)"
      ]
    },
    {
      "cell_type": "code",
      "execution_count": null,
      "metadata": {
        "id": "1YpIpLpfbG4f",
        "colab": {
          "base_uri": "https://localhost:8080/"
        },
        "outputId": "af7cf7cf-7b57-4fe7-b6d4-5a5a1ff1aa00"
      },
      "outputs": [
        {
          "output_type": "stream",
          "name": "stdout",
          "text": [
            "start testing\n",
            "start evaluation\n",
            "Root-mean-square error =  0.8464401195192319\n",
            "**bestModel**\n",
            " rank: 51\n",
            " maxIter: 20\n",
            " regParam: 0.1\n",
            "+------+-------+------+----------+\n",
            "|userId|movieId|rating|prediction|\n",
            "+------+-------+------+----------+\n",
            "|     1|     35|     1| 1.0291553|\n",
            "|     1|    720|     1| 2.0341368|\n",
            "|     1|    219|     1| 2.9014978|\n",
            "|     1|    809|     1| 2.4156835|\n",
            "|     1|   1188|     2| 2.3812087|\n",
            "|     1|    895|     2| 2.7590194|\n",
            "|     1|    559|     2| 2.8290858|\n",
            "|     1|    244|     2|  3.170313|\n",
            "|     1|     63|     2|  2.628068|\n",
            "|     1|    948|     2|  1.736599|\n",
            "|     1|    367|     2|  3.055051|\n",
            "|     1|    271|     2| 2.7403016|\n",
            "|     1|    940|     2| 2.1313043|\n",
            "|     1|    218|     3| 3.1721108|\n",
            "|     1|     10|     3|  3.792191|\n",
            "|     1|     62|     3|  2.939352|\n",
            "|     1|     97|     3| 3.8350506|\n",
            "|     1|    179|     3| 4.2789955|\n",
            "|     1|     69|     3|  3.547982|\n",
            "|     1|    117|     3| 3.2081223|\n",
            "+------+-------+------+----------+\n",
            "only showing top 20 rows\n",
            "\n"
          ]
        }
      ],
      "source": [
        "best_model = model.bestModel\n",
        "print(\"start testing\")\n",
        "predictions = best_model.transform(test)\n",
        "print(\"start evaluation\")\n",
        "rmse = evaluator.evaluate(predictions)\n",
        "print(\"Root-mean-square error = \", str(rmse))\n",
        "print(\"**bestModel**\")\n",
        "print(\" rank:\", best_model.rank)\n",
        "print(\" maxIter:\", best_model._java_obj.parent().getMaxIter())\n",
        "print(\" regParam:\", best_model._java_obj.parent().getRegParam())\n",
        "predictions.sort(\"userId\", \"rating\").show()"
      ]
    },
    {
      "cell_type": "markdown",
      "source": [
        "# Recursively filling all the possible similiarities"
      ],
      "metadata": {
        "id": "QOJM-kE5fZhJ"
      }
    },
    {
      "cell_type": "code",
      "source": [
        "def fill_some_values(usersRDD, ratings):#usersRDD and ratings DF\n",
        "  usersPrep = spark.createDataFrame(usersRDD)\n",
        "  prepared_DF = usersPrep.join(ratings, ['userId'], how='inner')\n",
        "  df1 = prepared_DF.groupBy('userId').agg(F.collect_list('movieId').alias('movieIds'), F.collect_list('rating').alias('ratings'))\n",
        "  movies = df1.rdd.map(lambda x: x[1]).collect()\n",
        "  ratings = df1.rdd.map(lambda x: x[2]).collect()\n",
        "  users = df1.rdd.map(lambda x: x[0]).collect()\n",
        "  user_counter = 0\n",
        "  final_list = []\n",
        "  for movie_list in movies:\n",
        "    tmpVector = [0.0] * 1682\n",
        "    for j in range(len(movie_list)):\n",
        "      tmpVector[movie_list[j] - 1] = ratings[user_counter][j] #0 based but movie index 1 based\n",
        "    final_list.append((users[user_counter], tmpVector))\n",
        "    user_counter += 1\n",
        "  final_df =spark.createDataFrame(data = final_list, schema = [\"userId\", \"movies_rating\"])\n",
        "  final_rdd = final_df.rdd\n",
        "  rows = final_rdd.map(lambda x: (x[0], np.array(x[1]))).collect()\n",
        "  for i in range(len(rows)):\n",
        "    max = 0\n",
        "    maxId = i\n",
        "    for j in range(len(rows)):\n",
        "      if i != j:\n",
        "        tmp = cosin_sim(rows[i][1], rows[j][1])\n",
        "        if (tmp > max):\n",
        "          max = tmp\n",
        "          maxId = j\n",
        "    update_vals = np.nonzero(rows[maxId][1])\n",
        "    for val in update_vals:\n",
        "      for idx in val:\n",
        "        if rows[i][1][idx] == 0:\n",
        "          rows[i][1][idx] = rows[maxId][1][idx]\n",
        "  arr = []\n",
        "  for row in rows:\n",
        "    for movie in range(len(row[1])):\n",
        "      if (row[1][movie] != 0):\n",
        "        arr.append((row[0], movie + 1, float(row[1][movie])))\n",
        "  final_prediction_df = spark.createDataFrame(data = arr, schema = [\"userId\", \"movieId\", \"rating\"])\n",
        "  return final_prediction_df\n",
        ""
      ],
      "metadata": {
        "id": "GADQ4QPFMSvB"
      },
      "execution_count": null,
      "outputs": []
    },
    {
      "cell_type": "code",
      "source": [
        "ratings = spark.createDataFrame(ratingsRDD)\n",
        "first_fill_df = fill_some_values(usersRDD, ratings)\n",
        "first_fill_df.show()"
      ],
      "metadata": {
        "colab": {
          "base_uri": "https://localhost:8080/"
        },
        "id": "6GV_oNpcNWuB",
        "outputId": "570db268-1dcb-45f4-dac2-7295bc6ed289"
      },
      "execution_count": null,
      "outputs": [
        {
          "output_type": "stream",
          "name": "stdout",
          "text": [
            "+------+-------+------+\n",
            "|userId|movieId|rating|\n",
            "+------+-------+------+\n",
            "|    26|      1|   3.0|\n",
            "|    26|      3|   3.0|\n",
            "|    26|      7|   3.0|\n",
            "|    26|      9|   4.0|\n",
            "|    26|     13|   3.0|\n",
            "|    26|     14|   3.0|\n",
            "|    26|     15|   4.0|\n",
            "|    26|     24|   3.0|\n",
            "|    26|     25|   3.0|\n",
            "|    26|     50|   4.0|\n",
            "|    26|     93|   2.0|\n",
            "|    26|    100|   5.0|\n",
            "|    26|    108|   3.0|\n",
            "|    26|    109|   3.0|\n",
            "|    26|    111|   3.0|\n",
            "|    26|    116|   2.0|\n",
            "|    26|    117|   3.0|\n",
            "|    26|    118|   3.0|\n",
            "|    26|    121|   3.0|\n",
            "|    26|    122|   1.0|\n",
            "+------+-------+------+\n",
            "only showing top 20 rows\n",
            "\n"
          ]
        }
      ]
    },
    {
      "cell_type": "code",
      "source": [
        "r2 = ratings.drop(\"timestamp\")\n",
        "#.printSchema()#need to drop it for subtract later"
      ],
      "metadata": {
        "id": "bqwhFpV1X3zN"
      },
      "execution_count": null,
      "outputs": []
    },
    {
      "cell_type": "code",
      "source": [
        "def recursive_till_0(usersRDD, ratings_DF, diff):\n",
        "  if (diff == 0):\n",
        "    return ratings_DF#this would mean our last calcd df difference with prev table got 0 so we return that df\n",
        "  else:\n",
        "    tmp_DF = fill_some_values(usersRDD, ratings_DF)\n",
        "    differ = tmp_DF.subtract(ratings_DF).count()\n",
        "    return recursive_till_0(usersRDD, tmp_DF, differ)\n",
        "#second_fill_df = fill_some_values(usersRDD, first_fill_df)\n",
        "\n",
        "#second_fill_df.subtract(first_fill_df).show()\n",
        "#print(second_fill_df.subtract(first_fill_df).count())"
      ],
      "metadata": {
        "id": "N_ULZ-kVPIv3"
      },
      "execution_count": null,
      "outputs": []
    },
    {
      "cell_type": "code",
      "source": [
        "similiarity_overfill = recursive_till_0(usersRDD, r2, 1)\n",
        "similiarity_overfill.show()"
      ],
      "metadata": {
        "colab": {
          "base_uri": "https://localhost:8080/"
        },
        "id": "57mMWSYmWcLk",
        "outputId": "3e2f42b8-75c9-41bd-d208-fb81edfcd131"
      },
      "execution_count": null,
      "outputs": [
        {
          "output_type": "stream",
          "name": "stdout",
          "text": [
            "+------+-------+------+\n",
            "|userId|movieId|rating|\n",
            "+------+-------+------+\n",
            "|    26|      1|   3.0|\n",
            "|    26|      3|   3.0|\n",
            "|    26|      7|   3.0|\n",
            "|    26|      9|   4.0|\n",
            "|    26|     13|   3.0|\n",
            "|    26|     14|   3.0|\n",
            "|    26|     15|   4.0|\n",
            "|    26|     24|   3.0|\n",
            "|    26|     25|   3.0|\n",
            "|    26|     50|   4.0|\n",
            "|    26|     93|   2.0|\n",
            "|    26|    100|   5.0|\n",
            "|    26|    108|   3.0|\n",
            "|    26|    109|   3.0|\n",
            "|    26|    111|   3.0|\n",
            "|    26|    116|   2.0|\n",
            "|    26|    117|   3.0|\n",
            "|    26|    118|   3.0|\n",
            "|    26|    121|   3.0|\n",
            "|    26|    122|   1.0|\n",
            "+------+-------+------+\n",
            "only showing top 20 rows\n",
            "\n"
          ]
        }
      ]
    },
    {
      "cell_type": "markdown",
      "source": [
        "# Final ALS Model"
      ],
      "metadata": {
        "id": "GH9Jar2qfkJY"
      }
    },
    {
      "cell_type": "code",
      "source": [
        "(training, test) = similiarity_overfill.randomSplit([0.8, 0.2])\n",
        "als = ALS(userCol=\"userId\", itemCol=\"movieId\", ratingCol=\"rating\", rank = 51, coldStartStrategy=\"drop\", nonnegative= True)\n",
        "param_grid=ParamGridBuilder().addGrid(als.maxIter,[10, 20]).addGrid(als.regParam,[.1,.01, .001]).build()\n",
        "evaluator = RegressionEvaluator(metricName=\"rmse\", labelCol=\"rating\", predictionCol=\"prediction\")\n",
        "tvs= TrainValidationSplit(estimator=als, estimatorParamMaps=param_grid,evaluator=evaluator)\n",
        "print (\"start training\")\n",
        "model = tvs.fit(training)"
      ],
      "metadata": {
        "colab": {
          "base_uri": "https://localhost:8080/"
        },
        "id": "rK9RTdKzNhkm",
        "outputId": "57541b0e-51a7-44fc-c5e0-37b2e710f668"
      },
      "execution_count": null,
      "outputs": [
        {
          "output_type": "stream",
          "name": "stdout",
          "text": [
            "start training\n"
          ]
        }
      ]
    },
    {
      "cell_type": "code",
      "source": [
        "best_model = model.bestModel\n",
        "print(\"start testing\")\n",
        "predictions = best_model.transform(test)\n",
        "print(\"start evaluation\")\n",
        "rmse = evaluator.evaluate(predictions)\n",
        "print(\"Root-mean-square error = \", str(rmse))\n",
        "print(\"**bestModel**\")\n",
        "print(\" rank:\", best_model.rank)\n",
        "print(\" maxIter:\", best_model._java_obj.parent().getMaxIter())\n",
        "print(\" regParam:\", best_model._java_obj.parent().getRegParam())\n",
        "predictions.sort(\"userId\", \"rating\").show()"
      ],
      "metadata": {
        "colab": {
          "base_uri": "https://localhost:8080/"
        },
        "id": "zCUz2zIVNj0f",
        "outputId": "c1955870-87c6-4c75-e50e-41bef3bfff1e"
      },
      "execution_count": null,
      "outputs": [
        {
          "output_type": "stream",
          "name": "stdout",
          "text": [
            "start testing\n",
            "start evaluation\n",
            "Root-mean-square error =  0.8473281966054302\n",
            "**bestModel**\n",
            " rank: 51\n",
            " maxIter: 20\n",
            " regParam: 0.1\n",
            "+------+-------+------+----------+\n",
            "|userId|movieId|rating|prediction|\n",
            "+------+-------+------+----------+\n",
            "|     1|     29|   1.0| 2.3001206|\n",
            "|     1|    112|   1.0| 1.2614967|\n",
            "|     1|    243|   1.0| 1.4428204|\n",
            "|     1|    568|   1.0| 3.2895882|\n",
            "|     1|    247|   1.0|0.77122325|\n",
            "|     1|    138|   1.0| 1.5021313|\n",
            "|     1|    244|   2.0| 3.2144177|\n",
            "|     1|    213|   2.0| 3.7669806|\n",
            "|     1|    167|   2.0| 2.5716395|\n",
            "|     1|     63|   2.0|  2.429794|\n",
            "|     1|    288|   2.0| 2.8325233|\n",
            "|     1|    855|   2.0| 3.5927796|\n",
            "|     1|    233|   2.0|  3.198913|\n",
            "|     1|    142|   2.0| 2.4178603|\n",
            "|     1|    225|   2.0| 2.5224266|\n",
            "|     1|    164|   3.0| 3.4547267|\n",
            "|     1|     24|   3.0| 3.3763232|\n",
            "|     1|    262|   3.0| 3.7714942|\n",
            "|     1|    211|   3.0| 4.1020403|\n",
            "|     1|     31|   3.0| 3.4506667|\n",
            "+------+-------+------+----------+\n",
            "only showing top 20 rows\n",
            "\n"
          ]
        }
      ]
    }
  ],
  "metadata": {
    "colab": {
      "collapsed_sections": [
        "DNhCuXVYdvhM",
        "RfwWRPjaiv9j",
        "7JxnKI7Ai4aA",
        "NZ8O81HHeGyg",
        "IPTrjIxkeOV1"
      ],
      "provenance": []
    },
    "kernelspec": {
      "display_name": "Python 3",
      "name": "python3"
    }
  },
  "nbformat": 4,
  "nbformat_minor": 0
}